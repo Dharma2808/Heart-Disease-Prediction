{
 "cells": [
  {
   "cell_type": "markdown",
   "id": "02df780e-6960-4405-bafc-ea3f3bac5de9",
   "metadata": {
    "tags": []
   },
   "source": [
    "# Data Mining - Final Project - Matrix Masters\n",
    "\n",
    "## HEART DISEASE PREDICTION\n",
    "\n",
    "### Team Name: MATRIX MASTERS\n",
    "\n",
    "##### Venkata Dharma Teja Konakanchi - U45612649\n",
    "##### Shyam Prasad Nalasani - U66528140\n",
    "##### Sai Chowdary Penikalapati - U83100263\n",
    "##### Pavan Venkata Vijaya Ajith Varma Datla- U574492629\n",
    "##### Manikanta Yashwanth - U48993625\n",
    "##### Sunil Porida - U57912010"
   ]
  },
  {
   "cell_type": "markdown",
   "id": "2ee833fc",
   "metadata": {},
   "source": [
    "## Introduction and Overview"
   ]
  },
  {
   "cell_type": "markdown",
   "id": "1298684f",
   "metadata": {},
   "source": [
    "In this project, we are using the \"processed.cleveland.csv\" heart disease dataset provided. It is a subset of the \"Cleveland\" dataset that can be found here:\n",
    "https://archive.ics.uci.edu/ml/datasets/Heart+Disease"
   ]
  },
  {
   "cell_type": "markdown",
   "id": "843344a9",
   "metadata": {},
   "source": [
    "## Business Objective"
   ]
  },
  {
   "cell_type": "markdown",
   "id": "ae981d15",
   "metadata": {},
   "source": [
    "“Matrix Masters” group was approached to work for a medical institution that wants to improve the heart health of its patients. We have obtained a dataset that contains a variety of demographics and health-related information for a group of patients. It also includes a CLASS variable \"num\" that indicates the heart health of each of the patients. \n",
    "\n",
    "We have been asked to identify a classifier that would predict the CLASS of new patients so they can be enrolled for treatments based on their demographic data. The identified classifier will help save the Doctor’s time by analyzing the previous health history of the patient and placing the patient in the correct class of risk.\n",
    "\n",
    "The different classes are :\n",
    "\n",
    "* No heart health issues / risk\n",
    "* Slight heart health issues / risk\n",
    "* Moderate heart health issues / risk\n",
    "* High heart health issues / risk\n",
    "* Extreme heart health issue / risk\n",
    "\n",
    "\n",
    "The COSTs (in dollars) of the treatments are as follows, based on the predicted class of each patient:\n",
    "\n",
    "Note: The values are assumed on a random basis.\n",
    "\n",
    "0) Tiny intervention: 100\n",
    "1) Minor intervention: 200\n",
    "2) Moderate intervention: 300 \n",
    "3) Significant intervention: 400 \n",
    "4) Extreme intervention: 500\n",
    "\n",
    "The BENEFITs of the treatments are as follows:\n",
    "\n",
    "- If the classification is correct and the correct treatment is given to the patient:\n",
    "        500 * (TRUE_CLASS + 1)\n",
    "        \n",
    "- If an incorrect classification is made and the wrong intervention is given to the patient: 0\n",
    "\n",
    "We would like to identify a classifier that maximizes the overall NET_BENEFIT.Therefore, a larger positive number is a good outcome.\n",
    "\n",
    "So, for example:\n",
    "\n",
    "* If a patient's true class is 4 and their predicted class is 0, their \n",
    "        NET_BENEFIT = 0 - 100 = -100\n",
    "* If a patient's true class is 4 and they are correctly classified, their \n",
    "        NET_BENEFIT is 500*(4+1) - 500 = 2000\n",
    "        \n",
    "We would be evaluating 3 classifiers i.e KNN, SVC, Decision Tree and decide on the best classifier based on the performance metrics and the Net_Benefit."
   ]
  },
  {
   "cell_type": "markdown",
   "id": "2c1e20b2",
   "metadata": {},
   "source": [
    "## Import Libraries"
   ]
  },
  {
   "cell_type": "code",
   "execution_count": 520,
   "id": "ab0b7d97-83c3-465c-bdc2-2ba5dc94e445",
   "metadata": {
    "tags": []
   },
   "outputs": [],
   "source": [
    "#Importing required libraries and functions for our data analysis\n",
    "\n",
    "import pandas as pd\n",
    "import matplotlib.pyplot as plt\n",
    "import seaborn as sns\n",
    "import numpy as np\n",
    "from sklearn import metrics\n",
    "from sklearn.model_selection import train_test_split\n",
    "from sklearn.preprocessing import StandardScaler\n",
    "from sklearn.neighbors import KNeighborsClassifier\n",
    "from sklearn.svm import SVC\n",
    "from sklearn.tree import DecisionTreeClassifier\n",
    "from sklearn.model_selection import GridSearchCV, RandomizedSearchCV\n",
    "from sklearn.metrics import  classification_report\n",
    "from sklearn.metrics import precision_score, recall_score, f1_score, accuracy_score\n",
    "\n",
    "\n",
    "# setting the seed so that the results are repeatable\n",
    "np.random.seed(42)"
   ]
  },
  {
   "cell_type": "markdown",
   "id": "bc28f096",
   "metadata": {},
   "source": [
    "## Read Data"
   ]
  },
  {
   "cell_type": "code",
   "execution_count": 521,
   "id": "447fd7fd-32f3-4dee-83c8-0808b97398ef",
   "metadata": {
    "tags": []
   },
   "outputs": [],
   "source": [
    "#import the csv file\n",
    "df = pd.read_csv(r\"C:\\Users\\imdha\\Downloads\\processed.cleveland.data\")"
   ]
  },
  {
   "cell_type": "code",
   "execution_count": 522,
   "id": "4167231f-b56f-45dc-afc6-e6ee5d4ce64c",
   "metadata": {
    "tags": []
   },
   "outputs": [
    {
     "data": {
      "text/html": [
       "<div>\n",
       "<style scoped>\n",
       "    .dataframe tbody tr th:only-of-type {\n",
       "        vertical-align: middle;\n",
       "    }\n",
       "\n",
       "    .dataframe tbody tr th {\n",
       "        vertical-align: top;\n",
       "    }\n",
       "\n",
       "    .dataframe thead th {\n",
       "        text-align: right;\n",
       "    }\n",
       "</style>\n",
       "<table border=\"1\" class=\"dataframe\">\n",
       "  <thead>\n",
       "    <tr style=\"text-align: right;\">\n",
       "      <th></th>\n",
       "      <th>63.0</th>\n",
       "      <th>1.0</th>\n",
       "      <th>1.0.1</th>\n",
       "      <th>145.0</th>\n",
       "      <th>233.0</th>\n",
       "      <th>1.0.2</th>\n",
       "      <th>2.0</th>\n",
       "      <th>150.0</th>\n",
       "      <th>0.0</th>\n",
       "      <th>2.3</th>\n",
       "      <th>3.0</th>\n",
       "      <th>0.0.1</th>\n",
       "      <th>6.0</th>\n",
       "      <th>0</th>\n",
       "    </tr>\n",
       "  </thead>\n",
       "  <tbody>\n",
       "    <tr>\n",
       "      <th>0</th>\n",
       "      <td>67.0</td>\n",
       "      <td>1.0</td>\n",
       "      <td>4.0</td>\n",
       "      <td>160.0</td>\n",
       "      <td>286.0</td>\n",
       "      <td>0.0</td>\n",
       "      <td>2.0</td>\n",
       "      <td>108.0</td>\n",
       "      <td>1.0</td>\n",
       "      <td>1.5</td>\n",
       "      <td>2.0</td>\n",
       "      <td>3.0</td>\n",
       "      <td>3.0</td>\n",
       "      <td>2</td>\n",
       "    </tr>\n",
       "    <tr>\n",
       "      <th>1</th>\n",
       "      <td>67.0</td>\n",
       "      <td>1.0</td>\n",
       "      <td>4.0</td>\n",
       "      <td>120.0</td>\n",
       "      <td>229.0</td>\n",
       "      <td>0.0</td>\n",
       "      <td>2.0</td>\n",
       "      <td>129.0</td>\n",
       "      <td>1.0</td>\n",
       "      <td>2.6</td>\n",
       "      <td>2.0</td>\n",
       "      <td>2.0</td>\n",
       "      <td>7.0</td>\n",
       "      <td>1</td>\n",
       "    </tr>\n",
       "    <tr>\n",
       "      <th>2</th>\n",
       "      <td>37.0</td>\n",
       "      <td>1.0</td>\n",
       "      <td>3.0</td>\n",
       "      <td>130.0</td>\n",
       "      <td>250.0</td>\n",
       "      <td>0.0</td>\n",
       "      <td>0.0</td>\n",
       "      <td>187.0</td>\n",
       "      <td>0.0</td>\n",
       "      <td>3.5</td>\n",
       "      <td>3.0</td>\n",
       "      <td>0.0</td>\n",
       "      <td>3.0</td>\n",
       "      <td>0</td>\n",
       "    </tr>\n",
       "    <tr>\n",
       "      <th>3</th>\n",
       "      <td>41.0</td>\n",
       "      <td>0.0</td>\n",
       "      <td>2.0</td>\n",
       "      <td>130.0</td>\n",
       "      <td>204.0</td>\n",
       "      <td>0.0</td>\n",
       "      <td>2.0</td>\n",
       "      <td>172.0</td>\n",
       "      <td>0.0</td>\n",
       "      <td>1.4</td>\n",
       "      <td>1.0</td>\n",
       "      <td>0.0</td>\n",
       "      <td>3.0</td>\n",
       "      <td>0</td>\n",
       "    </tr>\n",
       "    <tr>\n",
       "      <th>4</th>\n",
       "      <td>56.0</td>\n",
       "      <td>1.0</td>\n",
       "      <td>2.0</td>\n",
       "      <td>120.0</td>\n",
       "      <td>236.0</td>\n",
       "      <td>0.0</td>\n",
       "      <td>0.0</td>\n",
       "      <td>178.0</td>\n",
       "      <td>0.0</td>\n",
       "      <td>0.8</td>\n",
       "      <td>1.0</td>\n",
       "      <td>0.0</td>\n",
       "      <td>3.0</td>\n",
       "      <td>0</td>\n",
       "    </tr>\n",
       "    <tr>\n",
       "      <th>...</th>\n",
       "      <td>...</td>\n",
       "      <td>...</td>\n",
       "      <td>...</td>\n",
       "      <td>...</td>\n",
       "      <td>...</td>\n",
       "      <td>...</td>\n",
       "      <td>...</td>\n",
       "      <td>...</td>\n",
       "      <td>...</td>\n",
       "      <td>...</td>\n",
       "      <td>...</td>\n",
       "      <td>...</td>\n",
       "      <td>...</td>\n",
       "      <td>...</td>\n",
       "    </tr>\n",
       "    <tr>\n",
       "      <th>297</th>\n",
       "      <td>45.0</td>\n",
       "      <td>1.0</td>\n",
       "      <td>1.0</td>\n",
       "      <td>110.0</td>\n",
       "      <td>264.0</td>\n",
       "      <td>0.0</td>\n",
       "      <td>0.0</td>\n",
       "      <td>132.0</td>\n",
       "      <td>0.0</td>\n",
       "      <td>1.2</td>\n",
       "      <td>2.0</td>\n",
       "      <td>0.0</td>\n",
       "      <td>7.0</td>\n",
       "      <td>1</td>\n",
       "    </tr>\n",
       "    <tr>\n",
       "      <th>298</th>\n",
       "      <td>68.0</td>\n",
       "      <td>1.0</td>\n",
       "      <td>4.0</td>\n",
       "      <td>144.0</td>\n",
       "      <td>193.0</td>\n",
       "      <td>1.0</td>\n",
       "      <td>0.0</td>\n",
       "      <td>141.0</td>\n",
       "      <td>0.0</td>\n",
       "      <td>3.4</td>\n",
       "      <td>2.0</td>\n",
       "      <td>2.0</td>\n",
       "      <td>7.0</td>\n",
       "      <td>2</td>\n",
       "    </tr>\n",
       "    <tr>\n",
       "      <th>299</th>\n",
       "      <td>57.0</td>\n",
       "      <td>1.0</td>\n",
       "      <td>4.0</td>\n",
       "      <td>130.0</td>\n",
       "      <td>131.0</td>\n",
       "      <td>0.0</td>\n",
       "      <td>0.0</td>\n",
       "      <td>115.0</td>\n",
       "      <td>1.0</td>\n",
       "      <td>1.2</td>\n",
       "      <td>2.0</td>\n",
       "      <td>1.0</td>\n",
       "      <td>7.0</td>\n",
       "      <td>3</td>\n",
       "    </tr>\n",
       "    <tr>\n",
       "      <th>300</th>\n",
       "      <td>57.0</td>\n",
       "      <td>0.0</td>\n",
       "      <td>2.0</td>\n",
       "      <td>130.0</td>\n",
       "      <td>236.0</td>\n",
       "      <td>0.0</td>\n",
       "      <td>2.0</td>\n",
       "      <td>174.0</td>\n",
       "      <td>0.0</td>\n",
       "      <td>0.0</td>\n",
       "      <td>2.0</td>\n",
       "      <td>1.0</td>\n",
       "      <td>3.0</td>\n",
       "      <td>1</td>\n",
       "    </tr>\n",
       "    <tr>\n",
       "      <th>301</th>\n",
       "      <td>38.0</td>\n",
       "      <td>1.0</td>\n",
       "      <td>3.0</td>\n",
       "      <td>138.0</td>\n",
       "      <td>175.0</td>\n",
       "      <td>0.0</td>\n",
       "      <td>0.0</td>\n",
       "      <td>173.0</td>\n",
       "      <td>0.0</td>\n",
       "      <td>0.0</td>\n",
       "      <td>1.0</td>\n",
       "      <td>?</td>\n",
       "      <td>3.0</td>\n",
       "      <td>0</td>\n",
       "    </tr>\n",
       "  </tbody>\n",
       "</table>\n",
       "<p>302 rows × 14 columns</p>\n",
       "</div>"
      ],
      "text/plain": [
       "     63.0  1.0  1.0.1  145.0  233.0  1.0.2  2.0  150.0  0.0  2.3  3.0 0.0.1  \\\n",
       "0    67.0  1.0    4.0  160.0  286.0    0.0  2.0  108.0  1.0  1.5  2.0   3.0   \n",
       "1    67.0  1.0    4.0  120.0  229.0    0.0  2.0  129.0  1.0  2.6  2.0   2.0   \n",
       "2    37.0  1.0    3.0  130.0  250.0    0.0  0.0  187.0  0.0  3.5  3.0   0.0   \n",
       "3    41.0  0.0    2.0  130.0  204.0    0.0  2.0  172.0  0.0  1.4  1.0   0.0   \n",
       "4    56.0  1.0    2.0  120.0  236.0    0.0  0.0  178.0  0.0  0.8  1.0   0.0   \n",
       "..    ...  ...    ...    ...    ...    ...  ...    ...  ...  ...  ...   ...   \n",
       "297  45.0  1.0    1.0  110.0  264.0    0.0  0.0  132.0  0.0  1.2  2.0   0.0   \n",
       "298  68.0  1.0    4.0  144.0  193.0    1.0  0.0  141.0  0.0  3.4  2.0   2.0   \n",
       "299  57.0  1.0    4.0  130.0  131.0    0.0  0.0  115.0  1.0  1.2  2.0   1.0   \n",
       "300  57.0  0.0    2.0  130.0  236.0    0.0  2.0  174.0  0.0  0.0  2.0   1.0   \n",
       "301  38.0  1.0    3.0  138.0  175.0    0.0  0.0  173.0  0.0  0.0  1.0     ?   \n",
       "\n",
       "     6.0  0  \n",
       "0    3.0  2  \n",
       "1    7.0  1  \n",
       "2    3.0  0  \n",
       "3    3.0  0  \n",
       "4    3.0  0  \n",
       "..   ... ..  \n",
       "297  7.0  1  \n",
       "298  7.0  2  \n",
       "299  7.0  3  \n",
       "300  3.0  1  \n",
       "301  3.0  0  \n",
       "\n",
       "[302 rows x 14 columns]"
      ]
     },
     "execution_count": 522,
     "metadata": {},
     "output_type": "execute_result"
    }
   ],
   "source": [
    "df"
   ]
  },
  {
   "cell_type": "markdown",
   "id": "5fe433a0",
   "metadata": {},
   "source": [
    "## Assigning Column Names"
   ]
  },
  {
   "cell_type": "markdown",
   "id": "3be31842-38e7-473b-8c38-44d9385efe4a",
   "metadata": {},
   "source": [
    "Since we did not had column names in the dataset, we are putting the column names in the header row. These column names are provided in the dataset file only."
   ]
  },
  {
   "cell_type": "code",
   "execution_count": 523,
   "id": "c718f419",
   "metadata": {
    "tags": []
   },
   "outputs": [],
   "source": [
    "new_columns = ['age', 'sex', 'cp', 'trestbps', 'chol', 'fbs', 'restecg', 'thalach', 'exang', 'oldpeak', 'slope', 'ca', 'thal', 'num']\n",
    "\n",
    "df = df.reset_index(drop=True)\n",
    "\n",
    "# Insert the old header as the first row\n",
    "df.loc[-1] = df.columns.tolist()\n",
    "df.index = df.index + 1\n",
    "df = df.sort_index()\n",
    "\n",
    "# Assign new column names\n",
    "df.columns = new_columns"
   ]
  },
  {
   "cell_type": "code",
   "execution_count": 524,
   "id": "525be1c2",
   "metadata": {
    "tags": []
   },
   "outputs": [
    {
     "data": {
      "text/plain": [
       "Index(['age', 'sex', 'cp', 'trestbps', 'chol', 'fbs', 'restecg', 'thalach',\n",
       "       'exang', 'oldpeak', 'slope', 'ca', 'thal', 'num'],\n",
       "      dtype='object')"
      ]
     },
     "execution_count": 524,
     "metadata": {},
     "output_type": "execute_result"
    }
   ],
   "source": [
    "# Checking the column names\n",
    "df.columns"
   ]
  },
  {
   "cell_type": "markdown",
   "id": "ba387807",
   "metadata": {},
   "source": [
    "## Missing Values"
   ]
  },
  {
   "cell_type": "code",
   "execution_count": 525,
   "id": "7323640b-5bf9-41d1-9b63-8971043f0010",
   "metadata": {
    "tags": []
   },
   "outputs": [
    {
     "name": "stdout",
     "output_type": "stream",
     "text": [
      "age         0\n",
      "sex         0\n",
      "cp          0\n",
      "trestbps    0\n",
      "chol        0\n",
      "fbs         0\n",
      "restecg     0\n",
      "thalach     0\n",
      "exang       0\n",
      "oldpeak     0\n",
      "slope       0\n",
      "ca          4\n",
      "thal        2\n",
      "num         0\n",
      "dtype: int64\n"
     ]
    }
   ],
   "source": [
    "question_marks = df.apply(lambda col: col[col == '?'].count())\n",
    "print(question_marks)"
   ]
  },
  {
   "cell_type": "markdown",
   "id": "fc00509f",
   "metadata": {},
   "source": [
    "## Imputing the missing values"
   ]
  },
  {
   "cell_type": "markdown",
   "id": "08fe735c-3aa4-42f1-8b46-5f408fbe953b",
   "metadata": {},
   "source": [
    "Since all the missing values are from categorical columns, we are using the mode to impute the msissing values."
   ]
  },
  {
   "cell_type": "code",
   "execution_count": 526,
   "id": "0bd5870e",
   "metadata": {
    "tags": []
   },
   "outputs": [
    {
     "data": {
      "text/html": [
       "<div>\n",
       "<style scoped>\n",
       "    .dataframe tbody tr th:only-of-type {\n",
       "        vertical-align: middle;\n",
       "    }\n",
       "\n",
       "    .dataframe tbody tr th {\n",
       "        vertical-align: top;\n",
       "    }\n",
       "\n",
       "    .dataframe thead th {\n",
       "        text-align: right;\n",
       "    }\n",
       "</style>\n",
       "<table border=\"1\" class=\"dataframe\">\n",
       "  <thead>\n",
       "    <tr style=\"text-align: right;\">\n",
       "      <th></th>\n",
       "      <th>age</th>\n",
       "      <th>sex</th>\n",
       "      <th>cp</th>\n",
       "      <th>trestbps</th>\n",
       "      <th>chol</th>\n",
       "      <th>fbs</th>\n",
       "      <th>restecg</th>\n",
       "      <th>thalach</th>\n",
       "      <th>exang</th>\n",
       "      <th>oldpeak</th>\n",
       "      <th>slope</th>\n",
       "      <th>ca</th>\n",
       "      <th>thal</th>\n",
       "      <th>num</th>\n",
       "    </tr>\n",
       "  </thead>\n",
       "  <tbody>\n",
       "    <tr>\n",
       "      <th>0</th>\n",
       "      <td>63.0</td>\n",
       "      <td>1.0</td>\n",
       "      <td>4.0</td>\n",
       "      <td>145.0</td>\n",
       "      <td>233.0</td>\n",
       "      <td>0.0</td>\n",
       "      <td>2.0</td>\n",
       "      <td>150.0</td>\n",
       "      <td>0.0</td>\n",
       "      <td>2.3</td>\n",
       "      <td>3.0</td>\n",
       "      <td>0.0</td>\n",
       "      <td>6.0</td>\n",
       "      <td>0</td>\n",
       "    </tr>\n",
       "    <tr>\n",
       "      <th>1</th>\n",
       "      <td>67.0</td>\n",
       "      <td>1.0</td>\n",
       "      <td>4.0</td>\n",
       "      <td>160.0</td>\n",
       "      <td>286.0</td>\n",
       "      <td>0.0</td>\n",
       "      <td>2.0</td>\n",
       "      <td>108.0</td>\n",
       "      <td>1.0</td>\n",
       "      <td>1.5</td>\n",
       "      <td>2.0</td>\n",
       "      <td>3.0</td>\n",
       "      <td>3.0</td>\n",
       "      <td>2</td>\n",
       "    </tr>\n",
       "    <tr>\n",
       "      <th>2</th>\n",
       "      <td>67.0</td>\n",
       "      <td>1.0</td>\n",
       "      <td>4.0</td>\n",
       "      <td>120.0</td>\n",
       "      <td>229.0</td>\n",
       "      <td>0.0</td>\n",
       "      <td>2.0</td>\n",
       "      <td>129.0</td>\n",
       "      <td>1.0</td>\n",
       "      <td>2.6</td>\n",
       "      <td>2.0</td>\n",
       "      <td>2.0</td>\n",
       "      <td>7.0</td>\n",
       "      <td>1</td>\n",
       "    </tr>\n",
       "    <tr>\n",
       "      <th>3</th>\n",
       "      <td>37.0</td>\n",
       "      <td>1.0</td>\n",
       "      <td>3.0</td>\n",
       "      <td>130.0</td>\n",
       "      <td>250.0</td>\n",
       "      <td>0.0</td>\n",
       "      <td>0.0</td>\n",
       "      <td>187.0</td>\n",
       "      <td>0.0</td>\n",
       "      <td>3.5</td>\n",
       "      <td>3.0</td>\n",
       "      <td>0.0</td>\n",
       "      <td>3.0</td>\n",
       "      <td>0</td>\n",
       "    </tr>\n",
       "    <tr>\n",
       "      <th>4</th>\n",
       "      <td>41.0</td>\n",
       "      <td>0.0</td>\n",
       "      <td>2.0</td>\n",
       "      <td>130.0</td>\n",
       "      <td>204.0</td>\n",
       "      <td>0.0</td>\n",
       "      <td>2.0</td>\n",
       "      <td>172.0</td>\n",
       "      <td>0.0</td>\n",
       "      <td>1.4</td>\n",
       "      <td>1.0</td>\n",
       "      <td>0.0</td>\n",
       "      <td>3.0</td>\n",
       "      <td>0</td>\n",
       "    </tr>\n",
       "    <tr>\n",
       "      <th>...</th>\n",
       "      <td>...</td>\n",
       "      <td>...</td>\n",
       "      <td>...</td>\n",
       "      <td>...</td>\n",
       "      <td>...</td>\n",
       "      <td>...</td>\n",
       "      <td>...</td>\n",
       "      <td>...</td>\n",
       "      <td>...</td>\n",
       "      <td>...</td>\n",
       "      <td>...</td>\n",
       "      <td>...</td>\n",
       "      <td>...</td>\n",
       "      <td>...</td>\n",
       "    </tr>\n",
       "    <tr>\n",
       "      <th>298</th>\n",
       "      <td>45.0</td>\n",
       "      <td>1.0</td>\n",
       "      <td>1.0</td>\n",
       "      <td>110.0</td>\n",
       "      <td>264.0</td>\n",
       "      <td>0.0</td>\n",
       "      <td>0.0</td>\n",
       "      <td>132.0</td>\n",
       "      <td>0.0</td>\n",
       "      <td>1.2</td>\n",
       "      <td>2.0</td>\n",
       "      <td>0.0</td>\n",
       "      <td>7.0</td>\n",
       "      <td>1</td>\n",
       "    </tr>\n",
       "    <tr>\n",
       "      <th>299</th>\n",
       "      <td>68.0</td>\n",
       "      <td>1.0</td>\n",
       "      <td>4.0</td>\n",
       "      <td>144.0</td>\n",
       "      <td>193.0</td>\n",
       "      <td>1.0</td>\n",
       "      <td>0.0</td>\n",
       "      <td>141.0</td>\n",
       "      <td>0.0</td>\n",
       "      <td>3.4</td>\n",
       "      <td>2.0</td>\n",
       "      <td>2.0</td>\n",
       "      <td>7.0</td>\n",
       "      <td>2</td>\n",
       "    </tr>\n",
       "    <tr>\n",
       "      <th>300</th>\n",
       "      <td>57.0</td>\n",
       "      <td>1.0</td>\n",
       "      <td>4.0</td>\n",
       "      <td>130.0</td>\n",
       "      <td>131.0</td>\n",
       "      <td>0.0</td>\n",
       "      <td>0.0</td>\n",
       "      <td>115.0</td>\n",
       "      <td>1.0</td>\n",
       "      <td>1.2</td>\n",
       "      <td>2.0</td>\n",
       "      <td>1.0</td>\n",
       "      <td>7.0</td>\n",
       "      <td>3</td>\n",
       "    </tr>\n",
       "    <tr>\n",
       "      <th>301</th>\n",
       "      <td>57.0</td>\n",
       "      <td>0.0</td>\n",
       "      <td>2.0</td>\n",
       "      <td>130.0</td>\n",
       "      <td>236.0</td>\n",
       "      <td>0.0</td>\n",
       "      <td>2.0</td>\n",
       "      <td>174.0</td>\n",
       "      <td>0.0</td>\n",
       "      <td>0.0</td>\n",
       "      <td>2.0</td>\n",
       "      <td>1.0</td>\n",
       "      <td>3.0</td>\n",
       "      <td>1</td>\n",
       "    </tr>\n",
       "    <tr>\n",
       "      <th>302</th>\n",
       "      <td>38.0</td>\n",
       "      <td>1.0</td>\n",
       "      <td>3.0</td>\n",
       "      <td>138.0</td>\n",
       "      <td>175.0</td>\n",
       "      <td>0.0</td>\n",
       "      <td>0.0</td>\n",
       "      <td>173.0</td>\n",
       "      <td>0.0</td>\n",
       "      <td>0.0</td>\n",
       "      <td>1.0</td>\n",
       "      <td>0.0</td>\n",
       "      <td>3.0</td>\n",
       "      <td>0</td>\n",
       "    </tr>\n",
       "  </tbody>\n",
       "</table>\n",
       "<p>303 rows × 14 columns</p>\n",
       "</div>"
      ],
      "text/plain": [
       "      age  sex   cp trestbps   chol  fbs restecg thalach exang oldpeak slope  \\\n",
       "0    63.0  1.0  4.0    145.0  233.0  0.0     2.0   150.0   0.0     2.3   3.0   \n",
       "1    67.0  1.0  4.0    160.0  286.0  0.0     2.0   108.0   1.0     1.5   2.0   \n",
       "2    67.0  1.0  4.0    120.0  229.0  0.0     2.0   129.0   1.0     2.6   2.0   \n",
       "3    37.0  1.0  3.0    130.0  250.0  0.0     0.0   187.0   0.0     3.5   3.0   \n",
       "4    41.0  0.0  2.0    130.0  204.0  0.0     2.0   172.0   0.0     1.4   1.0   \n",
       "..    ...  ...  ...      ...    ...  ...     ...     ...   ...     ...   ...   \n",
       "298  45.0  1.0  1.0    110.0  264.0  0.0     0.0   132.0   0.0     1.2   2.0   \n",
       "299  68.0  1.0  4.0    144.0  193.0  1.0     0.0   141.0   0.0     3.4   2.0   \n",
       "300  57.0  1.0  4.0    130.0  131.0  0.0     0.0   115.0   1.0     1.2   2.0   \n",
       "301  57.0  0.0  2.0    130.0  236.0  0.0     2.0   174.0   0.0     0.0   2.0   \n",
       "302  38.0  1.0  3.0    138.0  175.0  0.0     0.0   173.0   0.0     0.0   1.0   \n",
       "\n",
       "      ca thal num  \n",
       "0    0.0  6.0   0  \n",
       "1    3.0  3.0   2  \n",
       "2    2.0  7.0   1  \n",
       "3    0.0  3.0   0  \n",
       "4    0.0  3.0   0  \n",
       "..   ...  ...  ..  \n",
       "298  0.0  7.0   1  \n",
       "299  2.0  7.0   2  \n",
       "300  1.0  7.0   3  \n",
       "301  1.0  3.0   1  \n",
       "302  0.0  3.0   0  \n",
       "\n",
       "[303 rows x 14 columns]"
      ]
     },
     "execution_count": 526,
     "metadata": {},
     "output_type": "execute_result"
    }
   ],
   "source": [
    "\n",
    "df['ca'].replace('?', pd.Series.mode(df['ca'])[0], inplace=True)\n",
    "\n",
    "df['thal'].replace('?', pd.Series.mode(df['thal'])[0], inplace=True)\n",
    "\n",
    "df['cp'].replace('1.0.1', pd.Series.mode(df['cp'])[0], inplace=True)\n",
    "\n",
    "df['fbs'].replace('1.0.2', pd.Series.mode(df['fbs'])[0], inplace=True)\n",
    "\n",
    "df['ca'].replace('0.0.1', pd.Series.mode(df['ca'])[0], inplace=True)\n",
    "\n",
    "df"
   ]
  },
  {
   "cell_type": "code",
   "execution_count": 527,
   "id": "e26ee648",
   "metadata": {
    "tags": []
   },
   "outputs": [
    {
     "name": "stdout",
     "output_type": "stream",
     "text": [
      "<class 'pandas.core.frame.DataFrame'>\n",
      "Int64Index: 303 entries, 0 to 302\n",
      "Data columns (total 14 columns):\n",
      " #   Column    Non-Null Count  Dtype  \n",
      "---  ------    --------------  -----  \n",
      " 0   age       303 non-null    object \n",
      " 1   sex       303 non-null    object \n",
      " 2   cp        303 non-null    float64\n",
      " 3   trestbps  303 non-null    object \n",
      " 4   chol      303 non-null    object \n",
      " 5   fbs       303 non-null    float64\n",
      " 6   restecg   303 non-null    object \n",
      " 7   thalach   303 non-null    object \n",
      " 8   exang     303 non-null    object \n",
      " 9   oldpeak   303 non-null    object \n",
      " 10  slope     303 non-null    object \n",
      " 11  ca        303 non-null    object \n",
      " 12  thal      303 non-null    object \n",
      " 13  num       303 non-null    object \n",
      "dtypes: float64(2), object(12)\n",
      "memory usage: 35.5+ KB\n"
     ]
    }
   ],
   "source": [
    "df.info()"
   ]
  },
  {
   "cell_type": "code",
   "execution_count": 528,
   "id": "13bc7cf3",
   "metadata": {
    "tags": []
   },
   "outputs": [],
   "source": [
    "# Loop through each column and convert to numeric with errors='coerce'\n",
    "for col in df.columns:\n",
    "    df[col] = pd.to_numeric(df[col], errors='coerce')\n",
    "\n",
    "# Convert the entire DataFrame to integers, while NaN values will be ignored\n",
    "df = df.astype(int)\n",
    "\n"
   ]
  },
  {
   "cell_type": "code",
   "execution_count": 529,
   "id": "a4c18383-08ce-42c5-bf0c-738fff1b1fa6",
   "metadata": {
    "scrolled": true,
    "tags": []
   },
   "outputs": [
    {
     "name": "stdout",
     "output_type": "stream",
     "text": [
      "<class 'pandas.core.frame.DataFrame'>\n",
      "Int64Index: 303 entries, 0 to 302\n",
      "Data columns (total 14 columns):\n",
      " #   Column    Non-Null Count  Dtype\n",
      "---  ------    --------------  -----\n",
      " 0   age       303 non-null    int32\n",
      " 1   sex       303 non-null    int32\n",
      " 2   cp        303 non-null    int32\n",
      " 3   trestbps  303 non-null    int32\n",
      " 4   chol      303 non-null    int32\n",
      " 5   fbs       303 non-null    int32\n",
      " 6   restecg   303 non-null    int32\n",
      " 7   thalach   303 non-null    int32\n",
      " 8   exang     303 non-null    int32\n",
      " 9   oldpeak   303 non-null    int32\n",
      " 10  slope     303 non-null    int32\n",
      " 11  ca        303 non-null    int32\n",
      " 12  thal      303 non-null    int32\n",
      " 13  num       303 non-null    int32\n",
      "dtypes: int32(14)\n",
      "memory usage: 18.9 KB\n"
     ]
    }
   ],
   "source": [
    "df.info()"
   ]
  },
  {
   "cell_type": "markdown",
   "id": "1b88599d-cd84-49fa-9954-0fd51b2ac281",
   "metadata": {
    "tags": []
   },
   "source": [
    "### Description of the data\n",
    "* age :- Age in years\n",
    "\n",
    "* Sex :- (1 = male; 0 = female)\n",
    "\n",
    "* cp :- Acute coronary artery disease and long-term cardiovascular disease risk are both elevated by chest pain. For patients with chest pain, the heart score is used to predict heart disease. Scores range from 0 to 3 for low risk, 4 to 6 for intermediate risk, and 7 to 10 for high risk.\n",
    "\n",
    "* trestbps :- Resting blood pressure should be less than 130. Anything over 140 is considered to be high and needs to be checked out by a doctor. Here, we can see that the trestbps minimum and maximum values are 94 and 200, respectively. Higher blood pressure (>180) puts people at greater risk for heart attacks and other illnesses.\n",
    "\n",
    "* chol :- In terms of serum cholestoral, normal is defined as less than 200, raised as between 200 and 240, and high as greater than 240.\n",
    "\n",
    "* fbs :- Below 100 mg/dl is the normal fasting blood glucose level. Fasting blood sugar level in the intermediate range, between 110 and 125. When the level reaches 126 or higher, it is considered high.\n",
    "\n",
    "* restecg :- ECG is an effective tool for cardiac screening and diagnosis. You will be advised to lay down and unwind for roughly five minutes prior to the resting ECG. A number of electrodes will be affixed to your skin with tiny sticky pads during this period to record the electrical activity occurring in your heart. The data they collect is sent back to the ECG equipment, which generates a chart that illustrates how the electrical activity varies over time.\n",
    "\n",
    "* thalach :- Your target heart rate for low-intensity exercise should be between 40% to 50% of your maximum heart rate, moderate-intensity exercise should be between 50% to 60% of your maximum heart rate, high-intensity exercise should be between 60% to 70% of your maximum heart rate, and for severe exercise should be between 85% and 100% of your maximum heart rate.\n",
    "\n",
    "* exang :- For any rigorous activity we do, the heart needs more oxygen-rich blood as it works harder to keep up with up with it. You can have pain or discomfort in your chest if this desire is not fulfilled.\n",
    "\n",
    "* oldpeak :- If the range of oldpeak is <2, then it is said to be low, range between 1.5 - 4.2 is risky and range above 2.55 is said to be terrible. To note, the left lateral leads (V5, V6, aVL, and I) may have ST segment depression due to heart failure; these depressions are often horizontal or downward-sloping.\n",
    "\n",
    "* ca :- number of major vessels (0-3) colored by flourosopy\n",
    "\n",
    "* thal :- The production of healthy red blood cells and hemoglobin by your body is impacted by the genetic blood condition thalassemia. There are alpha and beta thalassemia types.Reduced Hb level of 7 g/dl, mean corpuscolar volume > 50–70 fl, and mean corpuscolar Hb > 12–20 pg in a humab being lead to thalassemia (major). Hb levels > 7g/dl and <10 g/dl, MCV > 50 and < 80 fl, and MCH levels > 16 and < 24 pg in a human being lead to thalassemia (intermediate).\n",
    "\n",
    "* num :- It is the outcome which denotes the risk oh heart disease in a person i.e.,\n",
    "    - No heart health issues / risk = 0 \n",
    "    - Slight heart health issues / risk = 1 \n",
    "    - Moderate heart health issues / risk = 2\n",
    "    - High heart health issues / risk = 3\n",
    "    - Extreme heart health issue / risk = 4"
   ]
  },
  {
   "cell_type": "markdown",
   "id": "48cca774-f53f-46f3-923c-e316b0e1daef",
   "metadata": {},
   "source": [
    "Observation - There are no missing values in the dataset"
   ]
  },
  {
   "cell_type": "code",
   "execution_count": 530,
   "id": "546e4111-3b9e-49e9-9760-366c755fb24a",
   "metadata": {
    "tags": []
   },
   "outputs": [
    {
     "data": {
      "text/plain": [
       "age          41\n",
       "sex           2\n",
       "cp            4\n",
       "trestbps     50\n",
       "chol        152\n",
       "fbs           2\n",
       "restecg       3\n",
       "thalach      91\n",
       "exang         2\n",
       "oldpeak       7\n",
       "slope         3\n",
       "ca            4\n",
       "thal          3\n",
       "num           5\n",
       "dtype: int64"
      ]
     },
     "execution_count": 530,
     "metadata": {},
     "output_type": "execute_result"
    }
   ],
   "source": [
    "# Summarizing the number of unique values in each variable \n",
    "\n",
    "df.nunique()"
   ]
  },
  {
   "cell_type": "markdown",
   "id": "8a1839af-94fc-41d2-91b0-2dbcb12cdb92",
   "metadata": {},
   "source": [
    "### Plotting the graph for each feature"
   ]
  },
  {
   "cell_type": "code",
   "execution_count": 531,
   "id": "d85bdabc-9a8d-4293-9f09-2d0cfea0eb54",
   "metadata": {
    "scrolled": true,
    "tags": []
   },
   "outputs": [
    {
     "data": {
      "text/plain": [
       "Text(0.5, 0, 'thal')"
      ]
     },
     "execution_count": 531,
     "metadata": {},
     "output_type": "execute_result"
    },
    {
     "data": {
      "image/png": "[encoded data removed]",
      "text/plain": [
       "<Figure size 2500x3000 with 8 Axes>"
      ]
     },
     "metadata": {},
     "output_type": "display_data"
    }
   ],
   "source": [
    "fig, axs = plt.subplots(4, 2, figsize=(25,30))\n",
    "axs = axs.flatten()\n",
    "\n",
    "#plot for restecg\n",
    "axs[0].set_title(\"restecg\",fontsize=25, fontweight='bold')\n",
    "sns.boxplot(df['restecg'],ax=axs[0],color=\"yellow\")\n",
    "axs[0].set_xlabel('restecg',fontsize=15, fontweight='bold')\n",
    "\n",
    "#plot for thalach\n",
    "axs[1].set_title(\"thalach\",fontsize=25, fontweight='bold')\n",
    "sns.boxplot(df['thalach'],ax=axs[1],color=\"red\")\n",
    "axs[1].set_xlabel('thalach',fontsize=15, fontweight='bold')\n",
    "\n",
    "#plot for exang\n",
    "axs[2].set_title(\"exang\",fontsize=25, fontweight='bold')\n",
    "sns.boxplot(df['exang'],ax=axs[2],color=\"blue\")\n",
    "axs[2].set_xlabel('exang',fontsize=15, fontweight='bold')\n",
    "\n",
    "#plot for oldspeak\n",
    "axs[3].set_title(\"oldpeak\",fontsize=25, fontweight='bold')\n",
    "sns.boxplot(df['oldpeak'],ax=axs[3],color=\"pink\")\n",
    "axs[3].set_xlabel('oldpeak',fontsize=15, fontweight='bold')\n",
    "\n",
    "#plot for slope\n",
    "axs[4].set_title(\"slope\",fontsize=25, fontweight='bold')\n",
    "sns.boxplot(df['slope'],ax=axs[4],color=\"orange\")\n",
    "axs[4].set_xlabel('slope',fontsize=15, fontweight='bold')\n",
    "\n",
    "#plot for ca\n",
    "axs[5].set_title(\"ca\",fontsize=25, fontweight='bold')\n",
    "sns.boxplot(df['ca'],ax=axs[5],color=\"violet\")\n",
    "axs[5].set_xlabel('ca',fontsize=15, fontweight='bold')\n",
    "\n",
    "#plot for thal\n",
    "axs[6].set_title(\"thal\",fontsize=25, fontweight='bold')\n",
    "sns.boxplot(df['thal'],ax=axs[6],color=\"black\")\n",
    "axs[6].set_xlabel('thal',fontsize=15, fontweight='bold')"
   ]
  },
  {
   "cell_type": "markdown",
   "id": "3f113044-e2e7-40a8-b78e-2cfcf64a30ab",
   "metadata": {},
   "source": [
    "### Using Correlation Matrix"
   ]
  },
  {
   "cell_type": "markdown",
   "id": "05d4d4ec-d5ab-489b-8c03-1814a462fcc9",
   "metadata": {},
   "source": [
    "We are using the correlation matrix to identify the columns that can be dropped based on the correlation score."
   ]
  },
  {
   "cell_type": "code",
   "execution_count": 532,
   "id": "4ab0f9bd",
   "metadata": {
    "tags": []
   },
   "outputs": [
    {
     "data": {
      "image/png": "[encoded data removed]",
      "text/plain": [
       "<Figure size 1200x1000 with 2 Axes>"
      ]
     },
     "metadata": {},
     "output_type": "display_data"
    }
   ],
   "source": [
    "\n",
    "plt.figure(figsize=(12,10))\n",
    "cormax = df.corr()\n",
    "sns.heatmap(cormax, annot=True, cmap=plt.cm.Reds)\n",
    "plt.show()\n"
   ]
  },
  {
   "cell_type": "markdown",
   "id": "f4d72054-d7b1-468d-8cc4-26eabb69ece2",
   "metadata": {},
   "source": [
    "From above correlation matrix we can see that \"oldpeak\" and \"slope\" are highly correlated i.e 0.56. \n"
   ]
  },
  {
   "cell_type": "code",
   "execution_count": 533,
   "id": "46dad3d9-2baf-4f62-9055-cdadb7eab6e7",
   "metadata": {
    "tags": []
   },
   "outputs": [
    {
     "name": "stdout",
     "output_type": "stream",
     "text": [
      "fbs    0.066898\n",
      "Name: num, dtype: float64\n"
     ]
    }
   ],
   "source": [
    "#Calculating correlation with output variable\n",
    "\n",
    "cormax_result = abs(cormax[\"num\"])\n",
    "\n",
    "# Calculating least correlated features with the output variable\n",
    "\n",
    "lesscorr_attributes = cormax_result[cormax_result<0.07]\n",
    "\n",
    "print(lesscorr_attributes)\n"
   ]
  },
  {
   "cell_type": "markdown",
   "id": "c16d2173",
   "metadata": {},
   "source": [
    "## Dropping Unecessary columns"
   ]
  },
  {
   "cell_type": "code",
   "execution_count": 534,
   "id": "7b4f7272",
   "metadata": {
    "tags": []
   },
   "outputs": [],
   "source": [
    "#Dropping the unnecessary columns\n",
    "df.drop(['sex','fbs','slope'], axis=1,inplace = True)"
   ]
  },
  {
   "cell_type": "markdown",
   "id": "e6ea86a0-76b8-47fc-ae90-19df99671e3e",
   "metadata": {},
   "source": [
    "- Dropping \"sex\" column because it's really doesn't affect the predicting the output variable.\n",
    "- Dropping \"fbs\" since they are least correlated with the output variable as seen from the above correlation matrix.\n",
    "- Dropping \"slope\" column beacuse since both slope and oldpeak are highly correlated(0.56) with each other. When there is a strong correlation between two variables (oldpeak and slope), one of them might be redundant — that is, it wouldn't contribute anything to what the other variable already says.In that case, we can remove the variable that is least correlated with output variable.\n",
    "Here slope is least correlated to output variable than oldpeak.\n"
   ]
  },
  {
   "cell_type": "code",
   "execution_count": 535,
   "id": "22b6e03b",
   "metadata": {
    "tags": []
   },
   "outputs": [
    {
     "data": {
      "text/html": [
       "<div>\n",
       "<style scoped>\n",
       "    .dataframe tbody tr th:only-of-type {\n",
       "        vertical-align: middle;\n",
       "    }\n",
       "\n",
       "    .dataframe tbody tr th {\n",
       "        vertical-align: top;\n",
       "    }\n",
       "\n",
       "    .dataframe thead th {\n",
       "        text-align: right;\n",
       "    }\n",
       "</style>\n",
       "<table border=\"1\" class=\"dataframe\">\n",
       "  <thead>\n",
       "    <tr style=\"text-align: right;\">\n",
       "      <th></th>\n",
       "      <th>age</th>\n",
       "      <th>cp</th>\n",
       "      <th>trestbps</th>\n",
       "      <th>chol</th>\n",
       "      <th>restecg</th>\n",
       "      <th>thalach</th>\n",
       "      <th>exang</th>\n",
       "      <th>oldpeak</th>\n",
       "      <th>ca</th>\n",
       "      <th>thal</th>\n",
       "      <th>num</th>\n",
       "    </tr>\n",
       "  </thead>\n",
       "  <tbody>\n",
       "    <tr>\n",
       "      <th>0</th>\n",
       "      <td>63</td>\n",
       "      <td>4</td>\n",
       "      <td>145</td>\n",
       "      <td>233</td>\n",
       "      <td>2</td>\n",
       "      <td>150</td>\n",
       "      <td>0</td>\n",
       "      <td>2</td>\n",
       "      <td>0</td>\n",
       "      <td>6</td>\n",
       "      <td>0</td>\n",
       "    </tr>\n",
       "    <tr>\n",
       "      <th>1</th>\n",
       "      <td>67</td>\n",
       "      <td>4</td>\n",
       "      <td>160</td>\n",
       "      <td>286</td>\n",
       "      <td>2</td>\n",
       "      <td>108</td>\n",
       "      <td>1</td>\n",
       "      <td>1</td>\n",
       "      <td>3</td>\n",
       "      <td>3</td>\n",
       "      <td>2</td>\n",
       "    </tr>\n",
       "    <tr>\n",
       "      <th>2</th>\n",
       "      <td>67</td>\n",
       "      <td>4</td>\n",
       "      <td>120</td>\n",
       "      <td>229</td>\n",
       "      <td>2</td>\n",
       "      <td>129</td>\n",
       "      <td>1</td>\n",
       "      <td>2</td>\n",
       "      <td>2</td>\n",
       "      <td>7</td>\n",
       "      <td>1</td>\n",
       "    </tr>\n",
       "    <tr>\n",
       "      <th>3</th>\n",
       "      <td>37</td>\n",
       "      <td>3</td>\n",
       "      <td>130</td>\n",
       "      <td>250</td>\n",
       "      <td>0</td>\n",
       "      <td>187</td>\n",
       "      <td>0</td>\n",
       "      <td>3</td>\n",
       "      <td>0</td>\n",
       "      <td>3</td>\n",
       "      <td>0</td>\n",
       "    </tr>\n",
       "    <tr>\n",
       "      <th>4</th>\n",
       "      <td>41</td>\n",
       "      <td>2</td>\n",
       "      <td>130</td>\n",
       "      <td>204</td>\n",
       "      <td>2</td>\n",
       "      <td>172</td>\n",
       "      <td>0</td>\n",
       "      <td>1</td>\n",
       "      <td>0</td>\n",
       "      <td>3</td>\n",
       "      <td>0</td>\n",
       "    </tr>\n",
       "  </tbody>\n",
       "</table>\n",
       "</div>"
      ],
      "text/plain": [
       "   age  cp  trestbps  chol  restecg  thalach  exang  oldpeak  ca  thal  num\n",
       "0   63   4       145   233        2      150      0        2   0     6    0\n",
       "1   67   4       160   286        2      108      1        1   3     3    2\n",
       "2   67   4       120   229        2      129      1        2   2     7    1\n",
       "3   37   3       130   250        0      187      0        3   0     3    0\n",
       "4   41   2       130   204        2      172      0        1   0     3    0"
      ]
     },
     "execution_count": 535,
     "metadata": {},
     "output_type": "execute_result"
    }
   ],
   "source": [
    "df.head(5)"
   ]
  },
  {
   "cell_type": "code",
   "execution_count": 536,
   "id": "a76a3b9a-21fa-4943-a046-ebd806b4c7e6",
   "metadata": {
    "tags": []
   },
   "outputs": [
    {
     "data": {
      "text/plain": [
       "age          41\n",
       "cp            4\n",
       "trestbps     50\n",
       "chol        152\n",
       "restecg       3\n",
       "thalach      91\n",
       "exang         2\n",
       "oldpeak       7\n",
       "ca            4\n",
       "thal          3\n",
       "num           5\n",
       "dtype: int64"
      ]
     },
     "execution_count": 536,
     "metadata": {},
     "output_type": "execute_result"
    }
   ],
   "source": [
    "df.nunique()"
   ]
  },
  {
   "cell_type": "markdown",
   "id": "1f44d969",
   "metadata": {},
   "source": [
    "## One Hot Encoding"
   ]
  },
  {
   "cell_type": "markdown",
   "id": "96c0178a-29a4-4aec-92cd-ebb317bde2ec",
   "metadata": {},
   "source": [
    "Using One hot encoding method we transform categorical information into a format that may be given to ML algorithms to help them perform better at prediction.\n"
   ]
  },
  {
   "cell_type": "code",
   "execution_count": 537,
   "id": "d61b50ff",
   "metadata": {
    "scrolled": true,
    "tags": []
   },
   "outputs": [],
   "source": [
    "cat_var = ['cp', 'restecg','exang', 'thal', 'ca' ]\n",
    "\n",
    "# One Hot Encoding conversion\n",
    "df = pd.get_dummies(df, prefix_sep=\"_\", columns=cat_var)"
   ]
  },
  {
   "cell_type": "code",
   "execution_count": 538,
   "id": "9a8e4350",
   "metadata": {
    "scrolled": true,
    "tags": []
   },
   "outputs": [
    {
     "data": {
      "text/html": [
       "<div>\n",
       "<style scoped>\n",
       "    .dataframe tbody tr th:only-of-type {\n",
       "        vertical-align: middle;\n",
       "    }\n",
       "\n",
       "    .dataframe tbody tr th {\n",
       "        vertical-align: top;\n",
       "    }\n",
       "\n",
       "    .dataframe thead th {\n",
       "        text-align: right;\n",
       "    }\n",
       "</style>\n",
       "<table border=\"1\" class=\"dataframe\">\n",
       "  <thead>\n",
       "    <tr style=\"text-align: right;\">\n",
       "      <th></th>\n",
       "      <th>age</th>\n",
       "      <th>trestbps</th>\n",
       "      <th>chol</th>\n",
       "      <th>thalach</th>\n",
       "      <th>oldpeak</th>\n",
       "      <th>num</th>\n",
       "      <th>cp_1</th>\n",
       "      <th>cp_2</th>\n",
       "      <th>cp_3</th>\n",
       "      <th>cp_4</th>\n",
       "      <th>...</th>\n",
       "      <th>restecg_2</th>\n",
       "      <th>exang_0</th>\n",
       "      <th>exang_1</th>\n",
       "      <th>thal_3</th>\n",
       "      <th>thal_6</th>\n",
       "      <th>thal_7</th>\n",
       "      <th>ca_0</th>\n",
       "      <th>ca_1</th>\n",
       "      <th>ca_2</th>\n",
       "      <th>ca_3</th>\n",
       "    </tr>\n",
       "  </thead>\n",
       "  <tbody>\n",
       "    <tr>\n",
       "      <th>0</th>\n",
       "      <td>63</td>\n",
       "      <td>145</td>\n",
       "      <td>233</td>\n",
       "      <td>150</td>\n",
       "      <td>2</td>\n",
       "      <td>0</td>\n",
       "      <td>0</td>\n",
       "      <td>0</td>\n",
       "      <td>0</td>\n",
       "      <td>1</td>\n",
       "      <td>...</td>\n",
       "      <td>1</td>\n",
       "      <td>1</td>\n",
       "      <td>0</td>\n",
       "      <td>0</td>\n",
       "      <td>1</td>\n",
       "      <td>0</td>\n",
       "      <td>1</td>\n",
       "      <td>0</td>\n",
       "      <td>0</td>\n",
       "      <td>0</td>\n",
       "    </tr>\n",
       "    <tr>\n",
       "      <th>1</th>\n",
       "      <td>67</td>\n",
       "      <td>160</td>\n",
       "      <td>286</td>\n",
       "      <td>108</td>\n",
       "      <td>1</td>\n",
       "      <td>2</td>\n",
       "      <td>0</td>\n",
       "      <td>0</td>\n",
       "      <td>0</td>\n",
       "      <td>1</td>\n",
       "      <td>...</td>\n",
       "      <td>1</td>\n",
       "      <td>0</td>\n",
       "      <td>1</td>\n",
       "      <td>1</td>\n",
       "      <td>0</td>\n",
       "      <td>0</td>\n",
       "      <td>0</td>\n",
       "      <td>0</td>\n",
       "      <td>0</td>\n",
       "      <td>1</td>\n",
       "    </tr>\n",
       "    <tr>\n",
       "      <th>2</th>\n",
       "      <td>67</td>\n",
       "      <td>120</td>\n",
       "      <td>229</td>\n",
       "      <td>129</td>\n",
       "      <td>2</td>\n",
       "      <td>1</td>\n",
       "      <td>0</td>\n",
       "      <td>0</td>\n",
       "      <td>0</td>\n",
       "      <td>1</td>\n",
       "      <td>...</td>\n",
       "      <td>1</td>\n",
       "      <td>0</td>\n",
       "      <td>1</td>\n",
       "      <td>0</td>\n",
       "      <td>0</td>\n",
       "      <td>1</td>\n",
       "      <td>0</td>\n",
       "      <td>0</td>\n",
       "      <td>1</td>\n",
       "      <td>0</td>\n",
       "    </tr>\n",
       "    <tr>\n",
       "      <th>3</th>\n",
       "      <td>37</td>\n",
       "      <td>130</td>\n",
       "      <td>250</td>\n",
       "      <td>187</td>\n",
       "      <td>3</td>\n",
       "      <td>0</td>\n",
       "      <td>0</td>\n",
       "      <td>0</td>\n",
       "      <td>1</td>\n",
       "      <td>0</td>\n",
       "      <td>...</td>\n",
       "      <td>0</td>\n",
       "      <td>1</td>\n",
       "      <td>0</td>\n",
       "      <td>1</td>\n",
       "      <td>0</td>\n",
       "      <td>0</td>\n",
       "      <td>1</td>\n",
       "      <td>0</td>\n",
       "      <td>0</td>\n",
       "      <td>0</td>\n",
       "    </tr>\n",
       "    <tr>\n",
       "      <th>4</th>\n",
       "      <td>41</td>\n",
       "      <td>130</td>\n",
       "      <td>204</td>\n",
       "      <td>172</td>\n",
       "      <td>1</td>\n",
       "      <td>0</td>\n",
       "      <td>0</td>\n",
       "      <td>1</td>\n",
       "      <td>0</td>\n",
       "      <td>0</td>\n",
       "      <td>...</td>\n",
       "      <td>1</td>\n",
       "      <td>1</td>\n",
       "      <td>0</td>\n",
       "      <td>1</td>\n",
       "      <td>0</td>\n",
       "      <td>0</td>\n",
       "      <td>1</td>\n",
       "      <td>0</td>\n",
       "      <td>0</td>\n",
       "      <td>0</td>\n",
       "    </tr>\n",
       "    <tr>\n",
       "      <th>5</th>\n",
       "      <td>56</td>\n",
       "      <td>120</td>\n",
       "      <td>236</td>\n",
       "      <td>178</td>\n",
       "      <td>0</td>\n",
       "      <td>0</td>\n",
       "      <td>0</td>\n",
       "      <td>1</td>\n",
       "      <td>0</td>\n",
       "      <td>0</td>\n",
       "      <td>...</td>\n",
       "      <td>0</td>\n",
       "      <td>1</td>\n",
       "      <td>0</td>\n",
       "      <td>1</td>\n",
       "      <td>0</td>\n",
       "      <td>0</td>\n",
       "      <td>1</td>\n",
       "      <td>0</td>\n",
       "      <td>0</td>\n",
       "      <td>0</td>\n",
       "    </tr>\n",
       "    <tr>\n",
       "      <th>6</th>\n",
       "      <td>62</td>\n",
       "      <td>140</td>\n",
       "      <td>268</td>\n",
       "      <td>160</td>\n",
       "      <td>3</td>\n",
       "      <td>3</td>\n",
       "      <td>0</td>\n",
       "      <td>0</td>\n",
       "      <td>0</td>\n",
       "      <td>1</td>\n",
       "      <td>...</td>\n",
       "      <td>1</td>\n",
       "      <td>1</td>\n",
       "      <td>0</td>\n",
       "      <td>1</td>\n",
       "      <td>0</td>\n",
       "      <td>0</td>\n",
       "      <td>0</td>\n",
       "      <td>0</td>\n",
       "      <td>1</td>\n",
       "      <td>0</td>\n",
       "    </tr>\n",
       "    <tr>\n",
       "      <th>7</th>\n",
       "      <td>57</td>\n",
       "      <td>120</td>\n",
       "      <td>354</td>\n",
       "      <td>163</td>\n",
       "      <td>0</td>\n",
       "      <td>0</td>\n",
       "      <td>0</td>\n",
       "      <td>0</td>\n",
       "      <td>0</td>\n",
       "      <td>1</td>\n",
       "      <td>...</td>\n",
       "      <td>0</td>\n",
       "      <td>0</td>\n",
       "      <td>1</td>\n",
       "      <td>1</td>\n",
       "      <td>0</td>\n",
       "      <td>0</td>\n",
       "      <td>1</td>\n",
       "      <td>0</td>\n",
       "      <td>0</td>\n",
       "      <td>0</td>\n",
       "    </tr>\n",
       "    <tr>\n",
       "      <th>8</th>\n",
       "      <td>63</td>\n",
       "      <td>130</td>\n",
       "      <td>254</td>\n",
       "      <td>147</td>\n",
       "      <td>1</td>\n",
       "      <td>2</td>\n",
       "      <td>0</td>\n",
       "      <td>0</td>\n",
       "      <td>0</td>\n",
       "      <td>1</td>\n",
       "      <td>...</td>\n",
       "      <td>1</td>\n",
       "      <td>1</td>\n",
       "      <td>0</td>\n",
       "      <td>0</td>\n",
       "      <td>0</td>\n",
       "      <td>1</td>\n",
       "      <td>0</td>\n",
       "      <td>1</td>\n",
       "      <td>0</td>\n",
       "      <td>0</td>\n",
       "    </tr>\n",
       "    <tr>\n",
       "      <th>9</th>\n",
       "      <td>53</td>\n",
       "      <td>140</td>\n",
       "      <td>203</td>\n",
       "      <td>155</td>\n",
       "      <td>3</td>\n",
       "      <td>1</td>\n",
       "      <td>0</td>\n",
       "      <td>0</td>\n",
       "      <td>0</td>\n",
       "      <td>1</td>\n",
       "      <td>...</td>\n",
       "      <td>1</td>\n",
       "      <td>0</td>\n",
       "      <td>1</td>\n",
       "      <td>0</td>\n",
       "      <td>0</td>\n",
       "      <td>1</td>\n",
       "      <td>1</td>\n",
       "      <td>0</td>\n",
       "      <td>0</td>\n",
       "      <td>0</td>\n",
       "    </tr>\n",
       "  </tbody>\n",
       "</table>\n",
       "<p>10 rows × 22 columns</p>\n",
       "</div>"
      ],
      "text/plain": [
       "   age  trestbps  chol  thalach  oldpeak  num  cp_1  cp_2  cp_3  cp_4  ...  \\\n",
       "0   63       145   233      150        2    0     0     0     0     1  ...   \n",
       "1   67       160   286      108        1    2     0     0     0     1  ...   \n",
       "2   67       120   229      129        2    1     0     0     0     1  ...   \n",
       "3   37       130   250      187        3    0     0     0     1     0  ...   \n",
       "4   41       130   204      172        1    0     0     1     0     0  ...   \n",
       "5   56       120   236      178        0    0     0     1     0     0  ...   \n",
       "6   62       140   268      160        3    3     0     0     0     1  ...   \n",
       "7   57       120   354      163        0    0     0     0     0     1  ...   \n",
       "8   63       130   254      147        1    2     0     0     0     1  ...   \n",
       "9   53       140   203      155        3    1     0     0     0     1  ...   \n",
       "\n",
       "   restecg_2  exang_0  exang_1  thal_3  thal_6  thal_7  ca_0  ca_1  ca_2  ca_3  \n",
       "0          1        1        0       0       1       0     1     0     0     0  \n",
       "1          1        0        1       1       0       0     0     0     0     1  \n",
       "2          1        0        1       0       0       1     0     0     1     0  \n",
       "3          0        1        0       1       0       0     1     0     0     0  \n",
       "4          1        1        0       1       0       0     1     0     0     0  \n",
       "5          0        1        0       1       0       0     1     0     0     0  \n",
       "6          1        1        0       1       0       0     0     0     1     0  \n",
       "7          0        0        1       1       0       0     1     0     0     0  \n",
       "8          1        1        0       0       0       1     0     1     0     0  \n",
       "9          1        0        1       0       0       1     1     0     0     0  \n",
       "\n",
       "[10 rows x 22 columns]"
      ]
     },
     "execution_count": 538,
     "metadata": {},
     "output_type": "execute_result"
    }
   ],
   "source": [
    "df.head(10)"
   ]
  },
  {
   "cell_type": "markdown",
   "id": "126eae8c",
   "metadata": {},
   "source": [
    "## Function to be used to calculate cost of each model"
   ]
  },
  {
   "cell_type": "code",
   "execution_count": 539,
   "id": "42859722",
   "metadata": {
    "tags": []
   },
   "outputs": [
    {
     "data": {
      "text/plain": [
       "age          int32\n",
       "trestbps     int32\n",
       "chol         int32\n",
       "thalach      int32\n",
       "oldpeak      int32\n",
       "num          int32\n",
       "cp_1         uint8\n",
       "cp_2         uint8\n",
       "cp_3         uint8\n",
       "cp_4         uint8\n",
       "restecg_0    uint8\n",
       "restecg_1    uint8\n",
       "restecg_2    uint8\n",
       "exang_0      uint8\n",
       "exang_1      uint8\n",
       "thal_3       uint8\n",
       "thal_6       uint8\n",
       "thal_7       uint8\n",
       "ca_0         uint8\n",
       "ca_1         uint8\n",
       "ca_2         uint8\n",
       "ca_3         uint8\n",
       "dtype: object"
      ]
     },
     "execution_count": 539,
     "metadata": {},
     "output_type": "execute_result"
    }
   ],
   "source": [
    "df.dtypes"
   ]
  },
  {
   "cell_type": "markdown",
   "id": "56e7a5ac-4fe4-45b2-8263-0f8149086433",
   "metadata": {},
   "source": [
    "## Calculating Net Benefit"
   ]
  },
  {
   "cell_type": "code",
   "execution_count": 540,
   "id": "d7b089aa-b1af-4514-8668-bd3baa8f36fb",
   "metadata": {
    "tags": []
   },
   "outputs": [],
   "source": [
    "# Calculate NET_BENEFIT for each classifier\n",
    "\n",
    "def calculate_net_benefit(y_true, y_pred):\n",
    "    benefit = 0\n",
    "    for true_class, pred_class in zip(y_true, y_pred):\n",
    "        if true_class == pred_class:\n",
    "            benefit += 500 * (true_class + 1)\n",
    "        else:\n",
    "            cost = 0\n",
    "            if pred_class == 0:\n",
    "                cost = 100\n",
    "            elif pred_class == 1:\n",
    "                cost = 200\n",
    "            elif pred_class == 2:\n",
    "                cost = 300\n",
    "            elif pred_class == 3:\n",
    "                cost = 400\n",
    "            else:\n",
    "                cost = 500\n",
    "            benefit -= cost\n",
    "    return benefit"
   ]
  },
  {
   "cell_type": "markdown",
   "id": "1f5d7d5f",
   "metadata": {},
   "source": [
    "### Splitting Data"
   ]
  },
  {
   "cell_type": "code",
   "execution_count": 541,
   "id": "add7f0ce",
   "metadata": {
    "tags": []
   },
   "outputs": [],
   "source": [
    "# Seperate out the input m(X) and the target (y)\n",
    "\n",
    "X = data.drop(columns=['num'])\n",
    "y = data['num'].astype(int)\n",
    "\n",
    "\n",
    "# Splitting dataset into training set and test set i.e., 80% is training set and 20% is test set\n",
    "\n",
    "X_train, X_test, y_train, y_test = train_test_split(X, y, test_size=0.2, random_state=42)\n"
   ]
  },
  {
   "cell_type": "markdown",
   "id": "d4dcb05d-33d3-4698-b76a-f3dec91e5dad",
   "metadata": {},
   "source": [
    "### Data Scaling"
   ]
  },
  {
   "cell_type": "code",
   "execution_count": 542,
   "id": "b1cbebdc",
   "metadata": {
    "tags": []
   },
   "outputs": [],
   "source": [
    "# Initialize the StandardScaler\n",
    "scaler = StandardScaler()\n",
    "\n",
    "# Fit the scaler to the training data and transform it\n",
    "X_train = scaler.fit_transform(X_train)\n",
    "\n",
    "# Transform the testing data using the same scaler\n",
    "X_test = scaler.transform(X_test)"
   ]
  },
  {
   "cell_type": "markdown",
   "id": "cac2506c-6b20-4ab1-9718-305418c83f6f",
   "metadata": {
    "tags": []
   },
   "source": [
    "## Model Fitting with default parameters"
   ]
  },
  {
   "cell_type": "markdown",
   "id": "a7daa1d4",
   "metadata": {},
   "source": [
    "## Knn classifier"
   ]
  },
  {
   "cell_type": "markdown",
   "id": "d4f62f7e",
   "metadata": {},
   "source": [
    "Note : Rule of thumb for choosing K values is that, K should be the square root of the total number of samples. In the above steps, we can see that number of samples are 302. \n",
    "\n",
    "So The square root of 302 is 17.37. \n",
    "\n",
    "So, rounding to the nearest odd number, K would be 17."
   ]
  },
  {
   "cell_type": "code",
   "execution_count": 543,
   "id": "bf65c1d2-3316-4c42-aeba-0862bd95c9d3",
   "metadata": {
    "tags": []
   },
   "outputs": [
    {
     "name": "stdout",
     "output_type": "stream",
     "text": [
      "17\n"
     ]
    }
   ],
   "source": [
    "# Choose K based on the square root of the number of samples\n",
    "n_samples = df.shape[0]\n",
    "K = int(n_samples**0.5)\n",
    "print(K)"
   ]
  },
  {
   "cell_type": "code",
   "execution_count": 544,
   "id": "b2ba5dd2",
   "metadata": {
    "scrolled": true,
    "tags": []
   },
   "outputs": [
    {
     "name": "stdout",
     "output_type": "stream",
     "text": [
      "Accuracy : 0.52\n",
      "Net Benefit : 12200\n",
      "              precision    recall  f1-score   support\n",
      "\n",
      "           0       0.67      1.00      0.81        29\n",
      "           1       0.22      0.17      0.19        12\n",
      "           2       0.33      0.11      0.17         9\n",
      "           3       0.00      0.00      0.00         7\n",
      "           4       0.00      0.00      0.00         4\n",
      "\n",
      "    accuracy                           0.52        61\n",
      "   macro avg       0.25      0.26      0.23        61\n",
      "weighted avg       0.41      0.52      0.45        61\n",
      "\n"
     ]
    },
    {
     "name": "stderr",
     "output_type": "stream",
     "text": [
      "C:\\Users\\imdha\\AppData\\Roaming\\Python\\Python311\\site-packages\\sklearn\\metrics\\_classification.py:1469: UndefinedMetricWarning: Precision and F-score are ill-defined and being set to 0.0 in labels with no predicted samples. Use `zero_division` parameter to control this behavior.\n",
      "  _warn_prf(average, modifier, msg_start, len(result))\n",
      "C:\\Users\\imdha\\AppData\\Roaming\\Python\\Python311\\site-packages\\sklearn\\metrics\\_classification.py:1469: UndefinedMetricWarning: Precision and F-score are ill-defined and being set to 0.0 in labels with no predicted samples. Use `zero_division` parameter to control this behavior.\n",
      "  _warn_prf(average, modifier, msg_start, len(result))\n",
      "C:\\Users\\imdha\\AppData\\Roaming\\Python\\Python311\\site-packages\\sklearn\\metrics\\_classification.py:1469: UndefinedMetricWarning: Precision and F-score are ill-defined and being set to 0.0 in labels with no predicted samples. Use `zero_division` parameter to control this behavior.\n",
      "  _warn_prf(average, modifier, msg_start, len(result))\n"
     ]
    }
   ],
   "source": [
    "np.random.seed(42)\n",
    "\n",
    "knn = KNeighborsClassifier(n_neighbors=K)\n",
    "knn.fit(X_train, y_train)\n",
    "y_pred = knn.predict(X_test)\n",
    "\n",
    "knn1_default = format(accuracy_score(y_test, y_pred))\n",
    "knn1_f1_weighted = f1_score(y_test, y_pred, average='weighted')\n",
    "knn_default_nb = calculate_net_benefit(y_test, y_pred)\n",
    "\n",
    "print('Accuracy : {0:0.2f}'. format(accuracy_score(y_test, y_pred)))\n",
    "print('Net Benefit :', calculate_net_benefit(y_test, y_pred))\n",
    "print(classification_report(y_test, y_pred))\n"
   ]
  },
  {
   "cell_type": "markdown",
   "id": "ffaccf48",
   "metadata": {},
   "source": [
    "## SVC Classifier"
   ]
  },
  {
   "cell_type": "code",
   "execution_count": 545,
   "id": "aad403d3",
   "metadata": {
    "tags": []
   },
   "outputs": [
    {
     "name": "stdout",
     "output_type": "stream",
     "text": [
      "Accuracy : 0.57\n",
      "Net Benefit : 18200\n",
      "              precision    recall  f1-score   support\n",
      "\n",
      "           0       0.63      1.00      0.77        29\n",
      "           1       0.60      0.25      0.35        12\n",
      "           2       0.50      0.11      0.18         9\n",
      "           3       0.25      0.29      0.27         7\n",
      "           4       0.00      0.00      0.00         4\n",
      "\n",
      "    accuracy                           0.57        61\n",
      "   macro avg       0.40      0.33      0.31        61\n",
      "weighted avg       0.52      0.57      0.49        61\n",
      "\n"
     ]
    },
    {
     "name": "stderr",
     "output_type": "stream",
     "text": [
      "C:\\Users\\imdha\\AppData\\Roaming\\Python\\Python311\\site-packages\\sklearn\\metrics\\_classification.py:1469: UndefinedMetricWarning: Precision and F-score are ill-defined and being set to 0.0 in labels with no predicted samples. Use `zero_division` parameter to control this behavior.\n",
      "  _warn_prf(average, modifier, msg_start, len(result))\n",
      "C:\\Users\\imdha\\AppData\\Roaming\\Python\\Python311\\site-packages\\sklearn\\metrics\\_classification.py:1469: UndefinedMetricWarning: Precision and F-score are ill-defined and being set to 0.0 in labels with no predicted samples. Use `zero_division` parameter to control this behavior.\n",
      "  _warn_prf(average, modifier, msg_start, len(result))\n",
      "C:\\Users\\imdha\\AppData\\Roaming\\Python\\Python311\\site-packages\\sklearn\\metrics\\_classification.py:1469: UndefinedMetricWarning: Precision and F-score are ill-defined and being set to 0.0 in labels with no predicted samples. Use `zero_division` parameter to control this behavior.\n",
      "  _warn_prf(average, modifier, msg_start, len(result))\n"
     ]
    }
   ],
   "source": [
    "np.random.seed(42)\n",
    "\n",
    "svc=SVC()\n",
    "svc.fit(X_train,y_train)\n",
    "y_pred=svc.predict(X_test)\n",
    "\n",
    "svc1_default = format(accuracy_score(y_test, y_pred))\n",
    "svc1_f1_weighted = f1_score(y_test, y_pred, average='weighted')\n",
    "svc_default_nb = calculate_net_benefit(y_test, y_pred)\n",
    "\n",
    "print('Accuracy : {0:0.2f}'. format(accuracy_score(y_test, y_pred)))\n",
    "print(\"Net Benefit :\", calculate_net_benefit(y_test, y_pred))\n",
    "print(classification_report(y_test, y_pred))"
   ]
  },
  {
   "cell_type": "markdown",
   "id": "4f9826ca",
   "metadata": {},
   "source": [
    "## Decision Tree Classifier"
   ]
  },
  {
   "cell_type": "code",
   "execution_count": 546,
   "id": "d74b9e13",
   "metadata": {
    "tags": []
   },
   "outputs": [
    {
     "name": "stdout",
     "output_type": "stream",
     "text": [
      "Accuracy : 0.49\n",
      "Net Benefit :  13300\n",
      "              precision    recall  f1-score   support\n",
      "\n",
      "           0       0.81      0.72      0.76        29\n",
      "           1       0.33      0.42      0.37        12\n",
      "           2       0.33      0.44      0.38         9\n",
      "           3       0.00      0.00      0.00         7\n",
      "           4       0.00      0.00      0.00         4\n",
      "\n",
      "    accuracy                           0.49        61\n",
      "   macro avg       0.29      0.32      0.30        61\n",
      "weighted avg       0.50      0.49      0.49        61\n",
      "\n"
     ]
    }
   ],
   "source": [
    "np.random.seed(42)\n",
    "\n",
    "dt = DecisionTreeClassifier()\n",
    "dt = dt.fit(X_train,y_train)\n",
    "y_pred = dt.predict(X_test)\n",
    "\n",
    "dtc1_default = format(accuracy_score(y_test, y_pred))\n",
    "dtc1_f1_weighted = f1_score(y_test, y_pred, average='weighted')\n",
    "dt_default_nb = calculate_net_benefit(y_test, y_pred)\n",
    "\n",
    "print('Accuracy : {0:0.2f}'. format(accuracy_score(y_test, y_pred)))\n",
    "print(\"Net Benefit : \", calculate_net_benefit(y_test, y_pred))\n",
    "print(classification_report(y_test, y_pred))"
   ]
  },
  {
   "cell_type": "markdown",
   "id": "0427bd6b-abf4-4c15-a85d-623e83382f0d",
   "metadata": {},
   "source": [
    "## Model fitting With Hyperparameter Tuning"
   ]
  },
  {
   "cell_type": "markdown",
   "id": "8b2fc048-ce9b-4aa3-ab17-b0e03e22069f",
   "metadata": {
    "tags": []
   },
   "source": [
    "### KNN Classifier"
   ]
  },
  {
   "cell_type": "code",
   "execution_count": 547,
   "id": "8ac3cc3f-2717-4cd3-a87d-00fe6399c93e",
   "metadata": {
    "tags": []
   },
   "outputs": [
    {
     "name": "stdout",
     "output_type": "stream",
     "text": [
      "Best Hyperparameters (Grid Search): {'n_neighbors': 9, 'p': 1, 'weights': 'distance'}\n",
      "Best Hyperparameters (Randomized Search): {'weights': 'distance', 'p': 2, 'n_neighbors': 11}\n",
      "********************************************************************************************\n",
      "Accuracy (Grid Search): 0.54\n",
      "Net Benefit :  15200\n",
      "Classification Report (Grid Search):\n",
      "               precision    recall  f1-score   support\n",
      "\n",
      "           0       0.74      0.97      0.84        29\n",
      "           1       0.21      0.25      0.23        12\n",
      "           2       0.33      0.11      0.17         9\n",
      "           3       0.00      0.00      0.00         7\n",
      "           4       1.00      0.25      0.40         4\n",
      "\n",
      "    accuracy                           0.54        61\n",
      "   macro avg       0.46      0.32      0.33        61\n",
      "weighted avg       0.51      0.54      0.49        61\n",
      "\n",
      "********************************************************************************************\n",
      "Accuracy (Randomized Search): 0.5573770491803278\n",
      "Net Benefit :  16900\n",
      "Classification Report (Randomized Search):\n",
      "               precision    recall  f1-score   support\n",
      "\n",
      "           0       0.72      0.97      0.82        29\n",
      "           1       0.27      0.25      0.26        12\n",
      "           2       0.40      0.22      0.29         9\n",
      "           3       0.00      0.00      0.00         7\n",
      "           4       1.00      0.25      0.40         4\n",
      "\n",
      "    accuracy                           0.56        61\n",
      "   macro avg       0.48      0.34      0.35        61\n",
      "weighted avg       0.52      0.56      0.51        61\n",
      "\n"
     ]
    }
   ],
   "source": [
    "np.random.seed(1)\n",
    "\n",
    "# Define hyperparameters and their possible values for tuning\n",
    "param_grid = {\n",
    "    'n_neighbors': [3, 5, 7, 9, 11, 13, 15],\n",
    "    'weights': ['uniform', 'distance'],\n",
    "    'p': [1, 2],\n",
    "}\n",
    "\n",
    "# Create a GridSearchCV object for hyperparameter tuning\n",
    "grid_search = GridSearchCV(knn, param_grid, cv=5, scoring='accuracy')\n",
    "\n",
    "# Fit the GridSearchCV object to the training data\n",
    "grid_search.fit(X_train, y_train)\n",
    "\n",
    "# Print the best hyperparameters found during GridSearchCV\n",
    "best_params_grid = grid_search.best_params_\n",
    "\n",
    "print(\"Best Hyperparameters (Grid Search):\", best_params_grid)\n",
    "\n",
    "# Use the best models for prediction\n",
    "best_model_grid = grid_search.best_estimator_\n",
    "y_pred_grid = best_model_grid.predict(X_test)\n",
    "\n",
    "\n",
    "# Create a RandomizedSearchCV object for hyperparameter tuning\n",
    "randomized_search = RandomizedSearchCV(knn, param_distributions=param_grid, n_iter=10, cv=5, scoring='accuracy')\n",
    "\n",
    "# Fit the RandomizedSearchCV object to the training data\n",
    "randomized_search.fit(X_train, y_train)\n",
    "\n",
    "# Print the best hyperparameters found during RandomizedSearchCV\n",
    "best_params_randomized = randomized_search.best_params_\n",
    "print(\"Best Hyperparameters (Randomized Search):\", best_params_randomized)\n",
    "\n",
    "print(\"********************************************************************************************\")\n",
    "\n",
    "# Use the best models for prediction\n",
    "best_model_randomized = randomized_search.best_estimator_\n",
    "y_pred_randomized = best_model_randomized.predict(X_test)\n",
    "\n",
    "# Grid Search results\n",
    "accuracy_grid = accuracy_score(y_test, y_pred_grid)\n",
    "formatted_accuracy = f\"{accuracy_grid:.2f}\"\n",
    "knn2_grid = formatted_accuracy\n",
    "print(\"Accuracy (Grid Search):\", formatted_accuracy)\n",
    "knn2_f1_weighted = f1_score(y_test, y_pred_grid, average='weighted')\n",
    "print(\"Net Benefit : \", calculate_net_benefit(y_test, y_pred_grid))\n",
    "knn_grid_nb = calculate_net_benefit(y_test, y_pred_grid)\n",
    "print(\"Classification Report (Grid Search):\\n\", classification_report(y_test, y_pred_grid))\n",
    "\n",
    "print(\"********************************************************************************************\")\n",
    "# Randomized Search results\n",
    "accuracy_randomized = accuracy_score(y_test, y_pred_randomized)\n",
    "knn3_random = accuracy_randomized\n",
    "print(\"Accuracy (Randomized Search):\", accuracy_randomized)\n",
    "knn3_f1_weighted = f1_score(y_test, y_pred_randomized, average='weighted')\n",
    "print(\"Net Benefit : \", calculate_net_benefit(y_test, y_pred_randomized))\n",
    "knn_randomized_nb = calculate_net_benefit(y_test, y_pred_randomized)\n",
    "print(\"Classification Report (Randomized Search):\\n\", classification_report(y_test, y_pred_randomized))"
   ]
  },
  {
   "cell_type": "markdown",
   "id": "f8b57dd6-0f9c-48aa-a0be-0462602126f9",
   "metadata": {},
   "source": [
    "### SVC Classifier"
   ]
  },
  {
   "cell_type": "code",
   "execution_count": 548,
   "id": "63ce3ad7-44c0-49af-b7f8-ea8f74b5e174",
   "metadata": {
    "tags": []
   },
   "outputs": [
    {
     "name": "stdout",
     "output_type": "stream",
     "text": [
      "Best Hyperparameters (Grid Search): {'C': 0.1, 'degree': 2, 'kernel': 'linear'}\n",
      "Best Hyperparameters (Randomized Search): {'kernel': 'linear', 'degree': 4, 'C': 0.1}\n",
      "*************************************************************************************\n",
      "Accuracy (Grid Search): 0.5901639344262295\n",
      "Net Benefit : 20500\n",
      "Classification Report (Grid Search):\n",
      "               precision    recall  f1-score   support\n",
      "\n",
      "           0       0.78      0.97      0.86        29\n",
      "           1       0.38      0.25      0.30        12\n",
      "           2       0.25      0.22      0.24         9\n",
      "           3       0.25      0.29      0.27         7\n",
      "           4       1.00      0.25      0.40         4\n",
      "\n",
      "    accuracy                           0.59        61\n",
      "   macro avg       0.53      0.39      0.41        61\n",
      "weighted avg       0.57      0.59      0.56        61\n",
      "\n",
      "*************************************************************************************\n",
      "Accuracy (Randomized Search): 0.5901639344262295\n",
      "Net Benefit : 20500\n",
      "Classification Report (Randomized Search):\n",
      "               precision    recall  f1-score   support\n",
      "\n",
      "           0       0.78      0.97      0.86        29\n",
      "           1       0.38      0.25      0.30        12\n",
      "           2       0.25      0.22      0.24         9\n",
      "           3       0.25      0.29      0.27         7\n",
      "           4       1.00      0.25      0.40         4\n",
      "\n",
      "    accuracy                           0.59        61\n",
      "   macro avg       0.53      0.39      0.41        61\n",
      "weighted avg       0.57      0.59      0.56        61\n",
      "\n"
     ]
    }
   ],
   "source": [
    "np.random.seed(1)\n",
    "\n",
    "# Define hyperparameters and their possible values for tuning\n",
    "param_grid = {\n",
    "    'C': [0.1, 1, 10],\n",
    "    'kernel': ['linear', 'poly', 'rbf', 'sigmoid'],\n",
    "    'degree': [2, 3, 4],\n",
    "}\n",
    "\n",
    "# Create a GridSearchCV object for hyperparameter tuning\n",
    "grid_search = GridSearchCV(svc, param_grid, cv=5, scoring='accuracy')\n",
    "\n",
    "# Fit the GridSearchCV object to the training data\n",
    "grid_search.fit(X_train, y_train)\n",
    "\n",
    "# Print the best hyperparameters found during GridSearchCV\n",
    "best_params_grid = grid_search.best_params_\n",
    "\n",
    "print(\"Best Hyperparameters (Grid Search):\", best_params_grid)\n",
    "\n",
    "# Use the best models for prediction\n",
    "best_model_grid = grid_search.best_estimator_\n",
    "y_pred_grid = best_model_grid.predict(X_test)\n",
    "\n",
    "\n",
    "# Create a RandomizedSearchCV object for hyperparameter tuning\n",
    "randomized_search = RandomizedSearchCV(svc, param_distributions=param_grid, n_iter=10, cv=5, scoring='accuracy')\n",
    "\n",
    "# Fit the RandomizedSearchCV object to the training data\n",
    "randomized_search.fit(X_train, y_train)\n",
    "\n",
    "# Print the best hyperparameters found during RandomizedSearchCV\n",
    "best_params_randomized = randomized_search.best_params_\n",
    "print(\"Best Hyperparameters (Randomized Search):\", best_params_randomized)\n",
    "print(\"*************************************************************************************\")\n",
    "\n",
    "\n",
    "# Use the best models for prediction\n",
    "best_model_randomized = randomized_search.best_estimator_\n",
    "y_pred_randomized = best_model_randomized.predict(X_test)\n",
    "\n",
    "# Evaluate the models\n",
    "from sklearn.metrics import accuracy_score, classification_report\n",
    "\n",
    "# Grid Search results\n",
    "accuracy_grid = accuracy_score(y_test, y_pred_grid)\n",
    "print(\"Accuracy (Grid Search):\", accuracy_grid)\n",
    "svc2_grid = accuracy_grid\n",
    "svc2_f1_weighted = f1_score(y_test, y_pred_grid, average='weighted')\n",
    "print('Net Benefit :', calculate_net_benefit(y_test, y_pred_grid))\n",
    "svc_grid_nb = calculate_net_benefit(y_test, y_pred_grid)\n",
    "print(\"Classification Report (Grid Search):\\n\", classification_report(y_test, y_pred_grid))\n",
    "\n",
    "print(\"*************************************************************************************\")\n",
    "\n",
    "\n",
    "# Randomized Search results\n",
    "accuracy_randomized = accuracy_score(y_test, y_pred_randomized)\n",
    "svc3_random = accuracy_randomized\n",
    "svc3_f1_weighted = f1_score(y_test, y_pred_randomized, average='weighted')\n",
    "print(\"Accuracy (Randomized Search):\", accuracy_randomized)\n",
    "print('Net Benefit :', calculate_net_benefit(y_test, y_pred_randomized))\n",
    "svc_randomized_nb = calculate_net_benefit(y_test, y_pred_randomized)\n",
    "print(\"Classification Report (Randomized Search):\\n\", classification_report(y_test, y_pred_randomized))\n"
   ]
  },
  {
   "cell_type": "markdown",
   "id": "14106837-8099-4dad-b2e6-ea602a325cdf",
   "metadata": {},
   "source": [
    "### Decision Tree"
   ]
  },
  {
   "cell_type": "code",
   "execution_count": 549,
   "id": "f1b3f78a-b18c-439a-832e-8ff3fac007cf",
   "metadata": {
    "tags": []
   },
   "outputs": [
    {
     "name": "stdout",
     "output_type": "stream",
     "text": [
      "Best Hyperparameters (Grid Search): {'criterion': 'gini', 'max_depth': 5, 'min_samples_leaf': 1, 'min_samples_split': 10}\n",
      "Best Hyperparameters (Randomized Search): {'min_samples_split': 5, 'min_samples_leaf': 4, 'max_depth': 20, 'criterion': 'gini'}\n",
      "*************************************************************************************\n",
      "Accuracy (Grid Search): 0.5573770491803278\n",
      "Net Benefit : 16500\n",
      "Classification Report (Grid Search):\n",
      "               precision    recall  f1-score   support\n",
      "\n",
      "           0       0.83      0.83      0.83        29\n",
      "           1       0.44      0.67      0.53        12\n",
      "           2       0.20      0.22      0.21         9\n",
      "           3       0.00      0.00      0.00         7\n",
      "           4       0.00      0.00      0.00         4\n",
      "\n",
      "    accuracy                           0.56        61\n",
      "   macro avg       0.29      0.34      0.31        61\n",
      "weighted avg       0.51      0.56      0.53        61\n",
      "\n",
      "*************************************************************************************\n",
      "Accuracy (Randomized Search): 0.639344262295082\n",
      "Net Benefit : 22900\n",
      "Classification Report (Randomized Search):\n",
      "               precision    recall  f1-score   support\n",
      "\n",
      "           0       0.78      0.97      0.86        29\n",
      "           1       0.50      0.58      0.54        12\n",
      "           2       0.43      0.33      0.38         9\n",
      "           3       0.25      0.14      0.18         7\n",
      "           4       0.00      0.00      0.00         4\n",
      "\n",
      "    accuracy                           0.64        61\n",
      "   macro avg       0.39      0.41      0.39        61\n",
      "weighted avg       0.56      0.64      0.59        61\n",
      "\n"
     ]
    },
    {
     "name": "stderr",
     "output_type": "stream",
     "text": [
      "C:\\Users\\imdha\\AppData\\Roaming\\Python\\Python311\\site-packages\\sklearn\\metrics\\_classification.py:1469: UndefinedMetricWarning: Precision and F-score are ill-defined and being set to 0.0 in labels with no predicted samples. Use `zero_division` parameter to control this behavior.\n",
      "  _warn_prf(average, modifier, msg_start, len(result))\n",
      "C:\\Users\\imdha\\AppData\\Roaming\\Python\\Python311\\site-packages\\sklearn\\metrics\\_classification.py:1469: UndefinedMetricWarning: Precision and F-score are ill-defined and being set to 0.0 in labels with no predicted samples. Use `zero_division` parameter to control this behavior.\n",
      "  _warn_prf(average, modifier, msg_start, len(result))\n",
      "C:\\Users\\imdha\\AppData\\Roaming\\Python\\Python311\\site-packages\\sklearn\\metrics\\_classification.py:1469: UndefinedMetricWarning: Precision and F-score are ill-defined and being set to 0.0 in labels with no predicted samples. Use `zero_division` parameter to control this behavior.\n",
      "  _warn_prf(average, modifier, msg_start, len(result))\n",
      "C:\\Users\\imdha\\AppData\\Roaming\\Python\\Python311\\site-packages\\sklearn\\metrics\\_classification.py:1469: UndefinedMetricWarning: Precision and F-score are ill-defined and being set to 0.0 in labels with no predicted samples. Use `zero_division` parameter to control this behavior.\n",
      "  _warn_prf(average, modifier, msg_start, len(result))\n",
      "C:\\Users\\imdha\\AppData\\Roaming\\Python\\Python311\\site-packages\\sklearn\\metrics\\_classification.py:1469: UndefinedMetricWarning: Precision and F-score are ill-defined and being set to 0.0 in labels with no predicted samples. Use `zero_division` parameter to control this behavior.\n",
      "  _warn_prf(average, modifier, msg_start, len(result))\n",
      "C:\\Users\\imdha\\AppData\\Roaming\\Python\\Python311\\site-packages\\sklearn\\metrics\\_classification.py:1469: UndefinedMetricWarning: Precision and F-score are ill-defined and being set to 0.0 in labels with no predicted samples. Use `zero_division` parameter to control this behavior.\n",
      "  _warn_prf(average, modifier, msg_start, len(result))\n"
     ]
    }
   ],
   "source": [
    "np.random.seed(1)\n",
    "\n",
    "# Define hyperparameters and their possible values for tuning\n",
    "param_grid = {\n",
    "    'criterion': ['gini', 'entropy'],\n",
    "    'max_depth': [None, 5, 10, 15, 20],\n",
    "    'min_samples_split': [2, 5, 10],\n",
    "    'min_samples_leaf': [1, 2, 4],\n",
    "}\n",
    "\n",
    "# Create a GridSearchCV object for hyperparameter tuning\n",
    "grid_search = GridSearchCV(dt, param_grid, cv=5, scoring='accuracy')\n",
    "\n",
    "# Fit the GridSearchCV object to the training data\n",
    "grid_search.fit(X_train, y_train)\n",
    "\n",
    "# Print the best hyperparameters found during GridSearchCV\n",
    "best_params_grid = grid_search.best_params_\n",
    "\n",
    "print(\"Best Hyperparameters (Grid Search):\", best_params_grid)\n",
    "\n",
    "# Use the best models for prediction\n",
    "best_model_grid = grid_search.best_estimator_\n",
    "y_pred_grid = best_model_grid.predict(X_test)\n",
    "\n",
    "\n",
    "# Create a RandomizedSearchCV object for hyperparameter tuning\n",
    "randomized_search = RandomizedSearchCV(dt, param_distributions=param_grid, n_iter=10, cv=5, scoring='accuracy')\n",
    "\n",
    "# Fit the RandomizedSearchCV object to the training data\n",
    "randomized_search.fit(X_train, y_train)\n",
    "\n",
    "# Print the best hyperparameters found during RandomizedSearchCV\n",
    "best_params_randomized = randomized_search.best_params_\n",
    "print(\"Best Hyperparameters (Randomized Search):\", best_params_randomized)\n",
    "print(\"*************************************************************************************\")\n",
    "\n",
    "\n",
    "# Use the best models for prediction\n",
    "best_model_randomized = randomized_search.best_estimator_\n",
    "y_pred_randomized = best_model_randomized.predict(X_test)\n",
    "\n",
    "# Evaluate the models\n",
    "from sklearn.metrics import accuracy_score, classification_report\n",
    "\n",
    "# Grid Search results\n",
    "accuracy_grid = accuracy_score(y_test, y_pred_grid)\n",
    "dtc2_grid = accuracy_grid\n",
    "dtc2_f1_weighted = f1_score(y_test, y_pred_grid, average='weighted')\n",
    "print(\"Accuracy (Grid Search):\", accuracy_grid)\n",
    "print('Net Benefit :', calculate_net_benefit(y_test, y_pred_grid))\n",
    "dt_grid_nb = calculate_net_benefit(y_test, y_pred_grid)\n",
    "print(\"Classification Report (Grid Search):\\n\", classification_report(y_test, y_pred_grid))\n",
    "\n",
    "print(\"*************************************************************************************\")\n",
    "\n",
    "\n",
    "# Randomized Search results\n",
    "accuracy_randomized = accuracy_score(y_test, y_pred_randomized)\n",
    "dtc3_random = accuracy_randomized\n",
    "dtc3_f1_weighted = f1_score(y_test, y_pred_randomized, average='weighted')\n",
    "print(\"Accuracy (Randomized Search):\", accuracy_randomized)\n",
    "print('Net Benefit :', calculate_net_benefit(y_test, y_pred_randomized))\n",
    "dt_randomized_nb = calculate_net_benefit(y_test, y_pred_randomized)\n",
    "print(\"Classification Report (Randomized Search):\\n\", classification_report(y_test, y_pred_randomized))\n"
   ]
  },
  {
   "cell_type": "markdown",
   "id": "35a88358-7654-4951-bd7c-0cadfb3d13f7",
   "metadata": {},
   "source": [
    "## Visualizing the scores"
   ]
  },
  {
   "cell_type": "markdown",
   "id": "ad3db927-bc67-44d5-9cf4-b2e65478f3af",
   "metadata": {},
   "source": [
    "### F1 Score"
   ]
  },
  {
   "cell_type": "code",
   "execution_count": 550,
   "id": "e1850711-d1bc-4409-8136-0f9f6bcd007c",
   "metadata": {
    "tags": []
   },
   "outputs": [],
   "source": [
    "f1_scores = {\n",
    "    'Default': [knn1_f1_weighted,svc1_f1_weighted, dtc1_f1_weighted], \n",
    "    'Grid': [knn2_f1_weighted, svc2_f1_weighted, dtc2_f1_weighted],\n",
    "    'Randomized': [knn3_f1_weighted, svc3_f1_weighted, dtc3_f1_weighted],\n",
    "    # Add more classifiers as needed.\n",
    "}\n",
    "\n",
    "for key in f1_scores:\n",
    "    f1_scores[key] = [float(i) if isinstance(i, str) else i for i in f1_scores[key]]\n",
    "\n",
    "#print(accuracies)\n",
    "# Labels for your bar groups\n",
    "types = ['KNN', 'SVC', 'DTC']"
   ]
  },
  {
   "cell_type": "code",
   "execution_count": 551,
   "id": "b3cba9e5-3498-4919-8638-86f9d1279bfa",
   "metadata": {
    "tags": []
   },
   "outputs": [
    {
     "data": {
      "image/png": "[encoded data removed]",
      "text/plain": [
       "<Figure size 640x480 with 1 Axes>"
      ]
     },
     "metadata": {},
     "output_type": "display_data"
    }
   ],
   "source": [
    "# Data setup\n",
    "classifiers = list(f1_scores.keys())\n",
    "n_classifiers = len(classifiers)\n",
    "n_types = len(types)\n",
    "\n",
    "# Calculate the positions of each bar group\n",
    "bar_width = 0.2  # Width of each bar\n",
    "index = np.arange(n_types)\n",
    "position = np.linspace(0, bar_width*(n_classifiers-1), n_classifiers)\n",
    "\n",
    "# Plotting\n",
    "fig, ax = plt.subplots()\n",
    "\n",
    "for i, clf in enumerate(classifiers):\n",
    "    ax.bar(index + position[i], f1_scores[clf], bar_width, label=clf)\n",
    "    \n",
    "    for j, val in enumerate(f1_scores[clf]):\n",
    "        ax.text(index[j] + position[i], val + 0.01, f'{val:.2f}', ha='center', va='bottom')\n",
    "\n",
    "\n",
    "# Add some text for labels, title, and custom x-axis tick labels, etc.\n",
    "ax.set_xlabel('Classifier')\n",
    "ax.set_ylabel('F1 Score')\n",
    "ax.set_title('F1 Scores Comparison')\n",
    "ax.set_xticks(index + bar_width / n_classifiers)\n",
    "ax.set_xticklabels(types)\n",
    "ax.legend()\n",
    "\n",
    "# Display the plot\n",
    "plt.show()"
   ]
  },
  {
   "cell_type": "markdown",
   "id": "79c0ee17-4fa5-4441-b4a8-0bb858c0b7d3",
   "metadata": {},
   "source": [
    "## Visualizing the Net Benefits for each model"
   ]
  },
  {
   "cell_type": "code",
   "execution_count": 552,
   "id": "2fceee00-944c-427a-acc2-419c7b43d45e",
   "metadata": {
    "tags": []
   },
   "outputs": [],
   "source": [
    "net_benefits = {\n",
    "    'Default': [knn_default_nb,svc_default_nb, dt_default_nb], \n",
    "    'Grid': [knn_grid_nb, svc_grid_nb, dt_grid_nb],\n",
    "    'Randomized': [knn_randomized_nb, svc_randomized_nb, dt_randomized_nb],\n",
    "    \n",
    "}\n",
    "\n",
    "for key in net_benefits:\n",
    "    net_benefits[key] = [float(i) if isinstance(i, str) else i for i in net_benefits[key]]\n",
    "\n",
    "\n",
    "# Labels for your bar groups\n",
    "types = ['KNN', 'SVC', 'DTC']\n"
   ]
  },
  {
   "cell_type": "code",
   "execution_count": 553,
   "id": "26d6ebc8-57d2-4681-9fe0-c55349d4ede7",
   "metadata": {
    "tags": []
   },
   "outputs": [
    {
     "data": {
      "image/png": "[encoded data removed]",
      "text/plain": [
       "<Figure size 640x480 with 1 Axes>"
      ]
     },
     "metadata": {},
     "output_type": "display_data"
    }
   ],
   "source": [
    "# Data setup\n",
    "classifiers = list(net_benefits.keys())\n",
    "n_classifiers = len(classifiers)\n",
    "n_types = len(types)\n",
    "\n",
    "# Calculate the positions of each bar group\n",
    "bar_width = 0.2  # Width of each bar\n",
    "index = np.arange(n_types)\n",
    "position = np.linspace(0, bar_width*(n_classifiers-1), n_classifiers)\n",
    "\n",
    "# Plotting\n",
    "fig, ax = plt.subplots()\n",
    "\n",
    "for i, clf in enumerate(classifiers):\n",
    "    ax.bar(index + position[i], net_benfits[clf], bar_width, label=clf)\n",
    "    \n",
    "    for j, val in enumerate(net_benefits[clf]):\n",
    "        ax.text(index[j] + position[i], val + 0.01, f'{val:.2f}', ha='center', va='bottom')\n",
    "\n",
    "# Add some text for labels, title, and custom x-axis tick labels, etc.\n",
    "ax.set_xlabel('Classifiers')\n",
    "ax.set_ylabel('Net Benefits')\n",
    "ax.set_title('Net Benefits comparison')\n",
    "ax.set_xticks(index + bar_width / n_classifiers)\n",
    "ax.set_xticklabels(types)\n",
    "ax.legend()\n",
    "\n",
    "# Display the plot\n",
    "plt.show()"
   ]
  },
  {
   "cell_type": "markdown",
   "id": "36e6a3e6-86b8-4fd9-9bd1-2dbb69e49585",
   "metadata": {},
   "source": [
    "# Observations"
   ]
  },
  {
   "cell_type": "markdown",
   "id": "a0a7e9d0-fb67-43a2-a207-5da35391c16e",
   "metadata": {},
   "source": [
    "## Choosing the best performance metric"
   ]
  },
  {
   "cell_type": "markdown",
   "id": "ca578c60-8e22-41e1-a3c3-9c2ea8cd3d41",
   "metadata": {},
   "source": [
    "In this scenario, where our goal is to predict the CLASS of patients for treatment and improve heart health, each performance metric serves a specific purpose:\n",
    "\n",
    "- Accuracy: Accuracy measures the overall correctness of predictions and provides an initial indication of how well the model is performing. However, accuracy alone may not be the best metric in this case, as it doesn't consider the imbalanced distribution of classes or the costs and benefits associated with different types of errors.\n",
    "\n",
    "- Recall (Sensitivity): Recall measures the ability of the model to correctly identify patients with heart health issues. In this context, higher recall means that the model is good at identifying patients who truly have heart health problems. This is important because we want to make sure that patients at risk are not missed.\n",
    "\n",
    "- Precision: Precision measures the model's ability to correctly classify patients as having heart health issues among those it predicts as such. High precision indicates that when the model predicts a patient to have heart health issues, it is likely to be correct. This is important to avoid unnecessary treatments and costs.\n",
    "\n",
    "- F1 Score: The F1 score is the harmonic mean of precision and recall. It provides a balance between these two metrics and can be useful when we want to consider both false positives and false negatives. It is particularly useful when we want to strike a balance between correctly identifying patients at risk and minimizing unnecessary interventions.\n",
    "\n",
    "Since we want to consider both false positives and false negatives so that we can have a balance between correctly identifying patients at risk and minimizing unnecessary treatments, we want to consider F1 Score as our best metric for this context.\n",
    "\n",
    "        Best Performance metric = F1 score"
   ]
  },
  {
   "cell_type": "markdown",
   "id": "0baef36b-6947-4d63-83b1-6868b468fc0d",
   "metadata": {
    "tags": []
   },
   "source": [
    "## Scores with default parameters :-\n",
    "\n",
    "Note : Just providing the accuracy score also for reference. We are takling F1 score only into consideration.\n",
    "\n",
    "#### KNN:\n",
    "    \n",
    "    F1 Score: 0.45 \n",
    "\n",
    "    Accuracy: 0.52 \n",
    "    \n",
    "    Net Benefit : 12200\n",
    "\n",
    " #### SVC:\n",
    "\n",
    "    F1 Score: 0.49 \n",
    "\n",
    "    Accuracy: 0.57 \n",
    "    \n",
    "    Net Benefit : 18200\n",
    "\n",
    "#### Decision Tree:\n",
    "\n",
    "    F1 Score: 0.49\n",
    "\n",
    "    Accuracy: 0.49 \n",
    "    \n",
    "    Net Benefit :  13300\n",
    "\n",
    "## Scores with Hyperparameter tuning (Grid Search) :-\n",
    "\n",
    "#### KNN:\n",
    "\n",
    "    F1 Score : 0.49 \n",
    "\n",
    "    Accuracy : 0.54 \n",
    "\n",
    "    Net Benefit :  15200\n",
    "\n",
    "#### SVC:\n",
    "\n",
    "    F1 Score: 0.56 \n",
    "\n",
    "    Accuracy: 0.59 \n",
    "\n",
    "    Net Benefit : 20500\n",
    "\n",
    "#### Decision Tree:\n",
    "\n",
    "    F1 Score: 0.53\n",
    "\n",
    "    Accuracy:  0.56 \n",
    "\n",
    "    Net Benefit : 16500\n",
    "\n",
    "## Scores with Hyperparameter tuning (Randomized search) :-\n",
    "\n",
    "#### KNN:\n",
    "\n",
    "    F1 Score: 0.51 \n",
    "\n",
    "    Accuracy: 0.56 \n",
    "\n",
    "    Net Benefit :  16900\n",
    "\n",
    "#### SVC:\n",
    "\n",
    "    F1 Score: 0.56\n",
    "\n",
    "    Accuracy: 0.59\n",
    "\n",
    "    Net Benefit : 20500\n",
    "\n",
    "#### Decision Tree:\n",
    "\n",
    "    F1 Score: 0.59 \n",
    "\n",
    "    Accuracy: 0.64\n",
    "\n",
    "    Net Benefit : 22900\n"
   ]
  },
  {
   "cell_type": "markdown",
   "id": "92d3860f-39a2-4822-b69d-3efda9eb96ee",
   "metadata": {},
   "source": [
    "# Conclusion"
   ]
  },
  {
   "cell_type": "markdown",
   "id": "ae203ac5-e4f5-49f4-a9b9-1911ed4d8e19",
   "metadata": {},
   "source": [
    "- F1 Score : When considering F1 Score, the Decision Tree with Randomized Search outperforms the other models, with an F1 Score of 0.59. This suggests that the Decision Tree is better at correctly classifying patients with heart health issues.\n",
    "\n",
    "- Net Benefit : However, when evaluating the Net Benefit, which takes into account both the classification accuracy and the associated cost and benefit, Decision Tree with hyperparameter tuning (Randomized Search) lead to higher net benefit with 22900. This indicates that Decision Tree provides better economic value.\n",
    "\n",
    "- Overall Recommendation : Considering the goal of maximizing the overall Net Benefit along with good F1 score, the Decision Tree with hyperparameter tuning (Randomized Search) appears to be the best choice. This model achieved a good balance between classification accuracy and economic benefit.\n",
    "\n",
    "In summary, based on the provided information, the Decision Tree model with hyperparameter tuning (randomized search) proved to be promising classifier for further evaluation and implementation."
   ]
  }
 ],
 "metadata": {
  "kernelspec": {
   "display_name": "Python 3 (ipykernel)",
   "language": "python",
   "name": "python3"
  },
  "language_info": {
   "codemirror_mode": {
    "name": "ipython",
    "version": 3
   },
   "file_extension": ".py",
   "mimetype": "text/x-python",
   "name": "python",
   "nbconvert_exporter": "python",
   "pygments_lexer": "ipython3",
   "version": "3.11.4"
  }
 },
 "nbformat": 4,
 "nbformat_minor": 5
}
